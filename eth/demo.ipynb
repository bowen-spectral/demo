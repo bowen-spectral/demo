{
 "cells": [
  {
   "cell_type": "code",
   "execution_count": 1,
   "id": "1629a9ca",
   "metadata": {},
   "outputs": [],
   "source": [
    "alias zkml source ~/.nvm/nvm.sh >/dev/null && nvm use 14.0.0 >/dev/null && yarn >/dev/null && ./zkml"
   ]
  },
  {
   "cell_type": "code",
   "execution_count": 2,
   "id": "950b6bb4",
   "metadata": {},
   "outputs": [],
   "source": [
    "import numpy as np\n",
    "import pandas as pd\n",
    "from sklearn.metrics import mean_squared_error\n",
    "\n",
    "from sklearn.model_selection import train_test_split\n",
    "from sklearn.linear_model import LinearRegression"
   ]
  },
  {
   "cell_type": "code",
   "execution_count": 3,
   "id": "d7f58845",
   "metadata": {},
   "outputs": [],
   "source": [
    "from sklearn.datasets import load_iris # Load Iris Data\n",
    "\n",
    "iris = load_iris() # Creating pd DataFrames\n",
    "\n",
    "iris_df = pd.DataFrame(data= iris.data, columns= iris.feature_names)\n",
    "target_df = pd.DataFrame(data= iris.target, columns= ['species'])\n",
    "\n",
    "def converter(specie):\n",
    "    if specie == 0:\n",
    "        return 'setosa'\n",
    "    elif specie == 1:\n",
    "        return 'versicolor'\n",
    "    else:\n",
    "        return 'virginica'\n",
    "\n",
    "target_df['species'] = target_df['species'].apply(converter)# Concatenate the DataFrames\n",
    "iris_df = pd.concat([iris_df, target_df], axis= 1)"
   ]
  },
  {
   "cell_type": "code",
   "execution_count": 4,
   "id": "14b84f4d",
   "metadata": {
    "scrolled": true
   },
   "outputs": [
    {
     "name": "stdout",
     "output_type": "stream",
     "text": [
      "Mean Squared Error: 0.1123029571353145\n"
     ]
    }
   ],
   "source": [
    "# Converting Objects to Numerical dtype\n",
    "iris_df.drop('species', axis= 1, inplace= True)\n",
    "target_df = pd.DataFrame(columns= ['species'], data= iris.target)\n",
    "iris_df = pd.concat([iris_df, target_df], axis= 1)# Variables\n",
    "X= iris_df.drop(labels= 'sepal length (cm)', axis= 1)\n",
    "y= iris_df['sepal length (cm)']\n",
    "\n",
    "# Splitting the Dataset \n",
    "X_train, X_test, y_train, y_test = train_test_split(X, y, test_size= 0.13, random_state= 101)\n",
    "\n",
    "# Instantiating LinearRegression() Model\n",
    "lr = LinearRegression()\n",
    "\n",
    "# Training/Fitting the Model\n",
    "lr.fit(X_train, y_train)\n",
    "\n",
    "# Making Predictions\n",
    "lr.predict(X_test)\n",
    "pred = lr.predict(X_test)\n",
    "\n",
    "# Evaluating Model's Performance\n",
    "print('Mean Squared Error:', mean_squared_error(y_test, pred))\n",
    "\n",
    "mse = mean_squared_error(y_test, pred)"
   ]
  },
  {
   "cell_type": "code",
   "execution_count": 5,
   "id": "23f34332",
   "metadata": {},
   "outputs": [],
   "source": [
    "shuffle = lambda x: np.random.shuffle(x)"
   ]
  },
  {
   "cell_type": "code",
   "execution_count": 6,
   "id": "bde0a2d4",
   "metadata": {},
   "outputs": [],
   "source": [
    "W = lr.coef_.reshape(-1, 1)\n",
    "b = lr.intercept_.reshape(-1, 1)\n",
    "X = X_test.values[:]\n",
    "Yt_expected = y_test.values[:].reshape(-1, 1)\n",
    "mse_target = 0.11232375\n",
    "\n",
    "np.save('model/W.npy',W)\n",
    "np.save('model/b.npy',b)\n",
    "np.save('dataset/X.npy',X)\n",
    "np.save('dataset/Y.npy',Yt_expected)"
   ]
  },
  {
   "cell_type": "code",
   "execution_count": 7,
   "id": "dc795e5b",
   "metadata": {},
   "outputs": [
    {
     "name": "stdout",
     "output_type": "stream",
     "text": [
      "4.268270809439461\n"
     ]
    }
   ],
   "source": [
    "shuffle(W)\n",
    "shuffle(b)\n",
    "print(mean_squared_error(y_test, np.matmul(X_test, W.reshape(-1)) + b.reshape(-1)))\n",
    "\n",
    "np.save('model_shuffled/W.npy',W)\n",
    "np.save('model_shuffled/b.npy',b)"
   ]
  },
  {
   "cell_type": "code",
   "execution_count": 8,
   "id": "a6e5cd87",
   "metadata": {},
   "outputs": [],
   "source": [
    "Y_expected = np.matmul(X_test, lr.coef_) + lr.intercept_\n",
    "\n",
    "assert (Y_expected == lr.predict(X_test)).all()"
   ]
  },
  {
   "cell_type": "code",
   "execution_count": 9,
   "id": "e86d7f74",
   "metadata": {},
   "outputs": [],
   "source": [
    "from scripts import *\n",
    "from copy import deepcopy\n",
    "import json\n",
    "\n",
    "data = dict(\n",
    "    alpha_X = 0,\n",
    "    beta_X = 8,\n",
    "\n",
    "    alpha_W = -1,\n",
    "    beta_W = 8,\n",
    "\n",
    "    alpha_Y = 0,\n",
    "    beta_Y = 8,\n",
    "\n",
    "    alpha_Yt = 0,\n",
    "    beta_Yt = 8,\n",
    "\n",
    "    alpha_b = 0,\n",
    "    beta_b = 8,\n",
    "\n",
    "    alpha_R = -1,\n",
    "    beta_R = 1,\n",
    "\n",
    "    alpha_S = 0,\n",
    "    beta_S = 0.4,\n",
    "\n",
    "    m = 20,\n",
    "    p = 4,\n",
    "    n = 1,\n",
    "    \n",
    "    mse_target = mse_target\n",
    ")\n",
    "\n",
    "json.dump(data, open('./settings.json', 'w'), indent = 2)"
   ]
  },
  {
   "cell_type": "code",
   "execution_count": 10,
   "id": "936dc5f2",
   "metadata": {},
   "outputs": [
    {
     "name": "stdout",
     "output_type": "stream",
     "text": [
      "Hashed inputs: \n",
      "\u001b[33m14797455496207951391356508759149962584765968173479481191220882411966396840571n\u001b[39m\n",
      "Your Public Key: \n",
      "[\n",
      "  \u001b[33m6034246696949266198719295105718623837645220054485528158005177132825214698550n\u001b[39m,\n",
      "  \u001b[33m18373206073940188927074635457118967618467836856367301013723120319277640982446n\u001b[39m\n",
      "]\n",
      "Your Private Key: \n",
      "\u001b[33m16878775745485261856049987555926102924609561394066744324189507295660422358942n\u001b[39m\n",
      "Current Balance\n",
      "9040.14040899\n"
     ]
    }
   ],
   "source": [
    "zkml add_bounty --amount 11.1 --keyfile ./out --walletprivatekey ./keys/.private_key --dataset ./dataset --settings ./settings.json"
   ]
  },
  {
   "cell_type": "code",
   "execution_count": 11,
   "id": "bf2ba72a",
   "metadata": {},
   "outputs": [
    {
     "name": "stdout",
     "output_type": "stream",
     "text": [
      "Available bounties on dataset: dataset\n",
      "[\n",
      "  {\n",
      "    \u001b[32m'publickey-1'\u001b[39m: \u001b[32m'9034578064572512214535301210539208408830664951051263007560019313942236166417'\u001b[39m,\n",
      "    \u001b[32m'publickey-2'\u001b[39m: \u001b[32m'4995903678092667726400702912124052816223616090560699902572601312415845443763'\u001b[39m,\n",
      "    \u001b[32m'MSE-Cap'\u001b[39m: \u001b[32m'18406'\u001b[39m\n",
      "  }\n",
      "]\n"
     ]
    }
   ],
   "source": [
    "zkml list_bounties --hash 14797455496207951391356508759149962584765968173479481191220882411966396840571"
   ]
  },
  {
   "cell_type": "code",
   "execution_count": null,
   "id": "06450d8c",
   "metadata": {},
   "outputs": [],
   "source": [
    "zkml list_datasets"
   ]
  },
  {
   "cell_type": "code",
   "execution_count": null,
   "id": "6e8e8fe1",
   "metadata": {},
   "outputs": [],
   "source": [
    "zkml claim_bounty --payment 0x2546BcD3c84621e976D8185a91A922aE77ECEc30 --model ./model_shuffled --dataset ./dataset --publickey ./keys/out_public.json --settings ./settings.json"
   ]
  },
  {
   "cell_type": "code",
   "execution_count": null,
   "id": "71bf0c04",
   "metadata": {},
   "outputs": [],
   "source": [
    "zkml claim_bounty --payment 0x2546BcD3c84621e976D8185a91A922aE77ECEc30 --model ./model  --dataset ./dataset  --publickey ./keys/out_public.json --settings ./settings.json"
   ]
  },
  {
   "cell_type": "code",
   "execution_count": null,
   "id": "0e49f308",
   "metadata": {},
   "outputs": [],
   "source": [
    "zkml list_bounties --hash 14797455496207951391356508759149962584765968173479481191220882411966396840571"
   ]
  },
  {
   "cell_type": "code",
   "execution_count": null,
   "id": "944b05e8",
   "metadata": {},
   "outputs": [],
   "source": [
    "zkml list_datasets"
   ]
  },
  {
   "cell_type": "code",
   "execution_count": null,
   "id": "5dac9519",
   "metadata": {},
   "outputs": [],
   "source": []
  }
 ],
 "metadata": {
  "kernelspec": {
   "display_name": "Python 3",
   "language": "python",
   "name": "python3"
  },
  "language_info": {
   "codemirror_mode": {
    "name": "ipython",
    "version": 3
   },
   "file_extension": ".py",
   "mimetype": "text/x-python",
   "name": "python",
   "nbconvert_exporter": "python",
   "pygments_lexer": "ipython3",
   "version": "3.8.8"
  }
 },
 "nbformat": 4,
 "nbformat_minor": 5
}
