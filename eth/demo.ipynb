{
 "cells": [
  {
   "cell_type": "code",
   "execution_count": 14,
   "id": "4e72c1ac",
   "metadata": {},
   "outputs": [],
   "source": [
    "import numpy as np\n",
    "import pandas as pd\n",
    "from sklearn.metrics import mean_squared_error\n",
    "# Import Dataset from sklearn\n",
    "from sklearn.model_selection import train_test_split\n",
    "from sklearn.linear_model import LinearRegression"
   ]
  },
  {
   "cell_type": "code",
   "execution_count": null,
   "id": "8393f1c8",
   "metadata": {},
   "outputs": [],
   "source": [
    "from sklearn.datasets import load_iris # Load Iris Data\n",
    "\n",
    "iris = load_iris() # Creating pd DataFrames\n",
    "\n",
    "iris_df = pd.DataFrame(data= iris.data, columns= iris.feature_names)\n",
    "target_df = pd.DataFrame(data= iris.target, columns= ['species'])\n",
    "\n",
    "def converter(specie):\n",
    "    if specie == 0:\n",
    "        return 'setosa'\n",
    "    elif specie == 1:\n",
    "        return 'versicolor'\n",
    "    else:\n",
    "        return 'virginica'\n",
    "\n",
    "target_df['species'] = target_df['species'].apply(converter)# Concatenate the DataFrames\n",
    "iris_df = pd.concat([iris_df, target_df], axis= 1)"
   ]
  },
  {
   "cell_type": "code",
   "execution_count": 47,
   "id": "a92315fd",
   "metadata": {},
   "outputs": [
    {
     "name": "stdout",
     "output_type": "stream",
     "text": [
      "Mean Squared Error: 0.1123029571353145\n"
     ]
    }
   ],
   "source": [
    "# Converting Objects to Numerical dtype\n",
    "iris_df.drop('species', axis= 1, inplace= True)\n",
    "target_df = pd.DataFrame(columns= ['species'], data= iris.target)\n",
    "iris_df = pd.concat([iris_df, target_df], axis= 1)# Variables\n",
    "X= iris_df.drop(labels= 'sepal length (cm)', axis= 1)\n",
    "y= iris_df['sepal length (cm)']\n",
    "\n",
    "# Splitting the Dataset \n",
    "X_train, X_test, y_train, y_test = train_test_split(X, y, test_size= 0.13, random_state= 101)\n",
    "\n",
    "# Instantiating LinearRegression() Model\n",
    "lr = LinearRegression()\n",
    "\n",
    "# Training/Fitting the Model\n",
    "lr.fit(X_train, y_train)\n",
    "\n",
    "# Making Predictions\n",
    "lr.predict(X_test)\n",
    "pred = lr.predict(X_test)\n",
    "\n",
    "# Evaluating Model's Performance\n",
    "print('Mean Squared Error:', mean_squared_error(y_test, pred))\n"
   ]
  },
  {
   "cell_type": "code",
   "execution_count": null,
   "id": "e3ac860c",
   "metadata": {},
   "outputs": [],
   "source": [
    "print(X.values[:].max(), X.values[:].min())\n",
    "print(y.values[:].max(), y.values[:].min())"
   ]
  },
  {
   "cell_type": "code",
   "execution_count": 48,
   "id": "b0984821",
   "metadata": {},
   "outputs": [],
   "source": [
    "W = lr.coef_\n",
    "b = lr.intercept_"
   ]
  },
  {
   "cell_type": "code",
   "execution_count": 49,
   "id": "dba72661",
   "metadata": {},
   "outputs": [],
   "source": [
    "Y_expected = np.matmul(X_test, W) + b\n",
    "\n",
    "assert (Y_expected == lr.predict(X_test)).all()"
   ]
  },
  {
   "cell_type": "code",
   "execution_count": 60,
   "id": "532bbb9e",
   "metadata": {},
   "outputs": [
    {
     "name": "stdout",
     "output_type": "stream",
     "text": [
      "6.9 0.0\n",
      "7.9 4.3\n",
      "5.558081705128363 2.9133892796758256\n",
      "0.5143332457856635 -0.553112438773117\n",
      "0.3059333699255451 0.000844615740033696\n",
      "1.7620311370254882\n"
     ]
    }
   ],
   "source": [
    "print(X.values[:].max(), X.values[:].min())\n",
    "print(y.values[:].max(), y.values[:].min())\n",
    "print(np.matmul(X_test, W).max(), np.matmul(X_test, W).min())\n",
    "print((y_test - pred).max(), (y_test - pred).min())\n",
    "print(((y_test - pred) ** 2).max(), ((y_test - pred) ** 2).min())\n",
    "print(b)"
   ]
  },
  {
   "cell_type": "code",
   "execution_count": 62,
   "id": "eb7c4bf2",
   "metadata": {},
   "outputs": [],
   "source": [
    "alpha_X = 0\n",
    "beta_X = 8\n",
    "alpha_Y = 2\n",
    "beta_Y = 8\n",
    "alpha_Yt = 2\n",
    "beta_Yt = 8\n",
    "alpha_b = 0\n",
    "beta_b = 8\n",
    "alpha_R = -1\n",
    "beta_R = 1\n",
    "alpha_S = 0\n",
    "beta_S = 0.4"
   ]
  },
  {
   "cell_type": "code",
   "execution_count": 51,
   "id": "2bcd3b69",
   "metadata": {},
   "outputs": [
    {
     "data": {
      "text/plain": [
       "(20, 4)"
      ]
     },
     "execution_count": 51,
     "metadata": {},
     "output_type": "execute_result"
    }
   ],
   "source": [
    "X_test.shape"
   ]
  }
 ],
 "metadata": {
  "kernelspec": {
   "display_name": "Python 3",
   "language": "python",
   "name": "python3"
  },
  "language_info": {
   "codemirror_mode": {
    "name": "ipython",
    "version": 3
   },
   "file_extension": ".py",
   "mimetype": "text/x-python",
   "name": "python",
   "nbconvert_exporter": "python",
   "pygments_lexer": "ipython3",
   "version": "3.8.8"
  }
 },
 "nbformat": 4,
 "nbformat_minor": 5
}
