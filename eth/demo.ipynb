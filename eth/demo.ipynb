{
 "cells": [
  {
   "cell_type": "code",
   "execution_count": 14,
   "id": "61f0fae0",
   "metadata": {},
   "outputs": [],
   "source": [
    "import numpy as np\n",
    "import pandas as pd\n",
    "from sklearn.metrics import mean_squared_error\n",
    "# Import Dataset from sklearn\n",
    "from sklearn.model_selection import train_test_split\n",
    "from sklearn.linear_model import LinearRegression"
   ]
  },
  {
   "cell_type": "code",
   "execution_count": null,
   "id": "4ff6fafd",
   "metadata": {},
   "outputs": [],
   "source": [
    "from sklearn.datasets import load_iris # Load Iris Data\n",
    "\n",
    "iris = load_iris() # Creating pd DataFrames\n",
    "\n",
    "iris_df = pd.DataFrame(data= iris.data, columns= iris.feature_names)\n",
    "target_df = pd.DataFrame(data= iris.target, columns= ['species'])\n",
    "\n",
    "def converter(specie):\n",
    "    if specie == 0:\n",
    "        return 'setosa'\n",
    "    elif specie == 1:\n",
    "        return 'versicolor'\n",
    "    else:\n",
    "        return 'virginica'\n",
    "\n",
    "target_df['species'] = target_df['species'].apply(converter)# Concatenate the DataFrames\n",
    "iris_df = pd.concat([iris_df, target_df], axis= 1)"
   ]
  },
  {
   "cell_type": "code",
   "execution_count": 47,
   "id": "0a255b27",
   "metadata": {},
   "outputs": [
    {
     "name": "stdout",
     "output_type": "stream",
     "text": [
      "Mean Squared Error: 0.1123029571353145\n"
     ]
    }
   ],
   "source": [
    "# Converting Objects to Numerical dtype\n",
    "iris_df.drop('species', axis= 1, inplace= True)\n",
    "target_df = pd.DataFrame(columns= ['species'], data= iris.target)\n",
    "iris_df = pd.concat([iris_df, target_df], axis= 1)# Variables\n",
    "X= iris_df.drop(labels= 'sepal length (cm)', axis= 1)\n",
    "y= iris_df['sepal length (cm)']\n",
    "\n",
    "# Splitting the Dataset \n",
    "X_train, X_test, y_train, y_test = train_test_split(X, y, test_size= 0.13, random_state= 101)\n",
    "\n",
    "# Instantiating LinearRegression() Model\n",
    "lr = LinearRegression()\n",
    "\n",
    "# Training/Fitting the Model\n",
    "lr.fit(X_train, y_train)\n",
    "\n",
    "# Making Predictions\n",
    "lr.predict(X_test)\n",
    "pred = lr.predict(X_test)\n",
    "\n",
    "# Evaluating Model's Performance\n",
    "print('Mean Squared Error:', mean_squared_error(y_test, pred))\n"
   ]
  },
  {
   "cell_type": "code",
   "execution_count": null,
   "id": "79c2a5b5",
   "metadata": {},
   "outputs": [],
   "source": [
    "print(X.values[:].max(), X.values[:].min())\n",
    "print(y.values[:].max(), y.values[:].min())"
   ]
  },
  {
   "cell_type": "code",
   "execution_count": 66,
   "id": "eee56c06",
   "metadata": {},
   "outputs": [],
   "source": [
    "W = lr.coef_.reshape(-1, 1)\n",
    "b = lr.intercept_.reshape(-1, 1)\n",
    "X = X_test.values[:]\n",
    "Yt_expected = y_test.values[:]"
   ]
  },
  {
   "cell_type": "code",
   "execution_count": 75,
   "id": "0458d51e",
   "metadata": {},
   "outputs": [
    {
     "data": {
      "text/plain": [
       "(4,)"
      ]
     },
     "execution_count": 75,
     "metadata": {},
     "output_type": "execute_result"
    }
   ],
   "source": [
    "W.shape"
   ]
  },
  {
   "cell_type": "code",
   "execution_count": 49,
   "id": "7d379151",
   "metadata": {},
   "outputs": [],
   "source": [
    "Y_expected = np.matmul(X_test, W) + b\n",
    "\n",
    "assert (Y_expected == lr.predict(X_test)).all()"
   ]
  },
  {
   "cell_type": "code",
   "execution_count": 72,
   "id": "e9ff344c",
   "metadata": {},
   "outputs": [
    {
     "name": "stdout",
     "output_type": "stream",
     "text": [
      "6.7 0.0\n",
      "0.7565732740231967 -0.49234541667216947\n",
      "7.9 4.3\n",
      "5.558081705128363 2.9133892796758256\n",
      "0.5143332457856635 -0.553112438773117\n",
      "0.3059333699255451 0.000844615740033696\n",
      "1.7620311370254882\n"
     ]
    }
   ],
   "source": [
    "print(X.max(), X.min())\n",
    "print(W.max(), W.min())\n",
    "print(y.values[:].max(), y.values[:].min())\n",
    "print(np.matmul(X_test, W).max(), np.matmul(X_test, W).min())\n",
    "print((y_test - pred).max(), (y_test - pred).min())\n",
    "print(((y_test - pred) ** 2).max(), ((y_test - pred) ** 2).min())\n",
    "print(b)"
   ]
  },
  {
   "cell_type": "code",
   "execution_count": 73,
   "id": "1f0eee70",
   "metadata": {},
   "outputs": [],
   "source": [
    "from scripts import q_model\n",
    "alpha_X = 0\n",
    "beta_X = 8\n",
    "alpha_W = -1\n",
    "beta_W = 1\n",
    "alpha_Y = 2\n",
    "beta_Y = 8\n",
    "alpha_Yt = 2\n",
    "beta_Yt = 8\n",
    "alpha_b = 0\n",
    "beta_b = 8\n",
    "alpha_R = -1\n",
    "beta_R = 1\n",
    "alpha_S = 0\n",
    "beta_S = 0.4\n",
    "m = 20\n",
    "p = 4\n",
    "n = 1"
   ]
  },
  {
   "cell_type": "code",
   "execution_count": 74,
   "id": "93301d39",
   "metadata": {},
   "outputs": [
    {
     "ename": "ValueError",
     "evalue": "not enough values to unpack (expected 2, got 1)",
     "output_type": "error",
     "traceback": [
      "\u001b[0;31m---------------------------------------------------------------------------\u001b[0m",
      "\u001b[0;31mValueError\u001b[0m                                Traceback (most recent call last)",
      "\u001b[0;32m<ipython-input-74-0cf75ff30c13>\u001b[0m in \u001b[0;36m<module>\u001b[0;34m\u001b[0m\n\u001b[0;32m----> 1\u001b[0;31m q_model(m, p, n, \n\u001b[0m\u001b[1;32m      2\u001b[0m          \u001b[0malpha_X\u001b[0m\u001b[0;34m,\u001b[0m \u001b[0mbeta_X\u001b[0m\u001b[0;34m,\u001b[0m\u001b[0;34m\u001b[0m\u001b[0;34m\u001b[0m\u001b[0m\n\u001b[1;32m      3\u001b[0m          \u001b[0malpha_W\u001b[0m\u001b[0;34m,\u001b[0m \u001b[0mbeta_W\u001b[0m\u001b[0;34m,\u001b[0m\u001b[0;34m\u001b[0m\u001b[0;34m\u001b[0m\u001b[0m\n\u001b[1;32m      4\u001b[0m          \u001b[0malpha_b\u001b[0m\u001b[0;34m,\u001b[0m \u001b[0mbeta_b\u001b[0m\u001b[0;34m,\u001b[0m\u001b[0;34m\u001b[0m\u001b[0;34m\u001b[0m\u001b[0m\n\u001b[1;32m      5\u001b[0m          \u001b[0malpha_Y\u001b[0m\u001b[0;34m,\u001b[0m \u001b[0mbeta_Y\u001b[0m\u001b[0;34m,\u001b[0m\u001b[0;34m\u001b[0m\u001b[0;34m\u001b[0m\u001b[0m\n",
      "\u001b[0;32m~/Documents/GitHub/zkml-core/eth/scripts/quantize_model.py\u001b[0m in \u001b[0;36mq_model\u001b[0;34m(m, p, n, alpha_X, beta_X, alpha_W, beta_W, alpha_b, beta_b, alpha_Y, beta_Y, alpha_Yt, beta_Yt, alpha_R, beta_R, alpha_S, beta_S, X, W, b, Yt_expected)\u001b[0m\n\u001b[1;32m    409\u001b[0m \u001b[0;34m\u001b[0m\u001b[0m\n\u001b[1;32m    410\u001b[0m     \u001b[0;31m# Sanity Check\u001b[0m\u001b[0;34m\u001b[0m\u001b[0;34m\u001b[0m\u001b[0;34m\u001b[0m\u001b[0m\n\u001b[0;32m--> 411\u001b[0;31m     _Y_q_simulated = quant_matmul_circuit(\n\u001b[0m\u001b[1;32m    412\u001b[0m         \u001b[0mX_q\u001b[0m\u001b[0;34m=\u001b[0m\u001b[0mX_q\u001b[0m\u001b[0;34m,\u001b[0m\u001b[0;34m\u001b[0m\u001b[0;34m\u001b[0m\u001b[0m\n\u001b[1;32m    413\u001b[0m         \u001b[0mW_q\u001b[0m\u001b[0;34m=\u001b[0m\u001b[0mW_q\u001b[0m\u001b[0;34m,\u001b[0m\u001b[0;34m\u001b[0m\u001b[0;34m\u001b[0m\u001b[0m\n",
      "\u001b[0;32m~/Documents/GitHub/zkml-core/eth/scripts/quantize_model.py\u001b[0m in \u001b[0;36mquant_matmul_circuit\u001b[0;34m(X_q, W_q, b_q, z_X, z_W, z_b, z_Y, m, n, p, sbsY_numerator, sbsY_denominator, sXsWsY_numerator, sXsWsY_denominator)\u001b[0m\n\u001b[1;32m    270\u001b[0m     \u001b[0;32mfor\u001b[0m \u001b[0mi\u001b[0m \u001b[0;32min\u001b[0m \u001b[0mt\u001b[0m\u001b[0;34m:\u001b[0m\u001b[0;34m\u001b[0m\u001b[0;34m\u001b[0m\u001b[0m\n\u001b[1;32m    271\u001b[0m         \u001b[0;32mif\u001b[0m \u001b[0mtype\u001b[0m\u001b[0;34m(\u001b[0m\u001b[0mi\u001b[0m\u001b[0;34m)\u001b[0m \u001b[0;32mis\u001b[0m \u001b[0;32mnot\u001b[0m \u001b[0mint\u001b[0m\u001b[0;34m:\u001b[0m\u001b[0;34m\u001b[0m\u001b[0;34m\u001b[0m\u001b[0m\n\u001b[0;32m--> 272\u001b[0;31m             \u001b[0mdim1\u001b[0m\u001b[0;34m,\u001b[0m \u001b[0mdim2\u001b[0m \u001b[0;34m=\u001b[0m \u001b[0mi\u001b[0m\u001b[0;34m.\u001b[0m\u001b[0mshape\u001b[0m\u001b[0;34m\u001b[0m\u001b[0;34m\u001b[0m\u001b[0m\n\u001b[0m\u001b[1;32m    273\u001b[0m \u001b[0;34m\u001b[0m\u001b[0m\n\u001b[1;32m    274\u001b[0m             \u001b[0;32mdef\u001b[0m \u001b[0mdet\u001b[0m\u001b[0;34m(\u001b[0m\u001b[0md\u001b[0m\u001b[0;34m)\u001b[0m\u001b[0;34m:\u001b[0m\u001b[0;34m\u001b[0m\u001b[0;34m\u001b[0m\u001b[0m\n",
      "\u001b[0;31mValueError\u001b[0m: not enough values to unpack (expected 2, got 1)"
     ]
    }
   ],
   "source": [
    "q_model(m, p, n, \n",
    "         alpha_X, beta_X,\n",
    "         alpha_W, beta_W,\n",
    "         alpha_b, beta_b,\n",
    "         alpha_Y, beta_Y,\n",
    "         alpha_Yt, beta_Yt,\n",
    "         alpha_R, beta_R,\n",
    "         alpha_S, beta_S,\n",
    "         X, W, b, Yt_expected)"
   ]
  },
  {
   "cell_type": "code",
   "execution_count": null,
   "id": "941a4bcf",
   "metadata": {},
   "outputs": [],
   "source": []
  }
 ],
 "metadata": {
  "kernelspec": {
   "display_name": "Python 3",
   "language": "python",
   "name": "python3"
  },
  "language_info": {
   "codemirror_mode": {
    "name": "ipython",
    "version": 3
   },
   "file_extension": ".py",
   "mimetype": "text/x-python",
   "name": "python",
   "nbconvert_exporter": "python",
   "pygments_lexer": "ipython3",
   "version": "3.8.8"
  }
 },
 "nbformat": 4,
 "nbformat_minor": 5
}
