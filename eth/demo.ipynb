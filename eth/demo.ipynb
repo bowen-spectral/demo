{
 "cells": [
  {
   "cell_type": "markdown",
   "id": "ac5a8197",
   "metadata": {},
   "source": [
    "## zk-ml: truly private machine learning on blockchain\n",
    "\n",
    "Peiyuan Liao, Milo Cress, ludens\n",
    "\n",
    "### **Thesis: modern machine learning platforms lack security and transperancy**\n",
    "\n",
    "* https://www.kaggle.com/, https://codalab.org/, https://www.crowdai.org/\n",
    "* Experiences of competing in Kaggle as a Competitions Grandmaster (Peiyuan):\n",
    " - user downloads dataset\n",
    " - trains model\n",
    " - uploads it (???)\n",
    " - evaluated against some test set (???) \n",
    " - and some metric (???)\n",
    " - some random meetings with the organizers (???)\n",
    " - prize is delivered \n",
    "* https://www.kaggle.com/c/deepfake-detection-challenge/discussion/157983#885598\n",
    " - Top ML competition team denied of 500k USD due to opaque data issues\n",
    "* https://www.kaggle.com/c/global-wheat-detection/discussion/167298\n",
    " - Several under-the-hood re-runs, edits to private test set, arbitrarily invalidating submissions\n",
    " \n",
    "### Solution: zk-SNARKS\n",
    "\n",
    "* ML models usually operates in float, double and half precisions, but zk-SNARKS work in prime fields\n",
    "* Quantization!\n",
    "  - Prime complement for negative numbers\n",
    "  - Slight precision loss on both sides (sometimes better, sometimes worse)\n",
    "  - Division circuits are very expernsive but doable (negatives, quotioent-remainder relationships)\n",
    "  - Multiply-add approximations for nonlinearities (sigmoid, tanh, etc.)\n",
    "\n",
    "### The zk-ml protocol\n",
    "\n",
    "* What zk-SNARKs provide: \n",
    " - succint proof of computation that neural networks perform certain way under certain datasets\n",
    "* What ETH provides:\n",
    " - securely post and claim bounties\n",
    " - reliable way to transfer model for key agreement protocol\n",
    " \n",
    "* The circuit: Linear Regression\n",
    "    - Checks that all the public inputs that defines a ml dataset (x,y pairs with quantization constants) hashes correctly to hash_input, as this will be the main key for bounty deposit and claim\n",
    "    - confirms that the actual model params correctly encrypts to the public model params. This way, the bounty issuer can simply use the public key and the encrypted params in the calldata along with their private key to restore the params\n",
    "    - Performs the model inference and confirms that it indeed has a certain measure wrt public targets.\n",
    "* The contract\n",
    "    - Organizers post bounties with IPFS links to datasets\n",
    "    - Competitors query for bounty and download datasets\n",
    "    - Competitors trains model, quantizes it and generate proofs locally\n",
    "    - (if conditions are met) Competitors uploads proof and claims bounty\n",
    "    - (if conditions are not met)Organizers\n",
    "\n",
    "### Future works\n",
    "\n",
    "* More ML models\n",
    " - Language models: I-BERT (https://arxiv.org/abs/2101.01321)\n",
    " - Gradient Boosted Decision Trees, XGBoost, LightGBM, etc: trees are representable as circuits\n",
    " - Compiler from neural network IR to groth16 verifier (zokrates w. optimizations)\n",
    "* Protocol revamp\n",
    " - Multiple contributions to a contract: proxy contracts\n",
    " - Pushing beyond contract size limit:\n",
    "     - Diamond patterns, libraries\n",
    "     - 16/8/4-bit quantization and bit packing inside uint256\n",
    "     - Moving zk-SNARK computation to cryptoprocessors\n",
    " - Preventing frontrunners: bounty issuer can see the calldata, front-run the transcation, and remove the bounty\n",
    " - Preventing over-fitting for over-parameterized models (MLP, ConvNets): two stage competition -> public leaderboard proof and private leaderboard proofs\n",
    " - Preventing adversarial organizers creating invalid test sets (random noise, exceptionally hard, etc).\n",
    "     - User public keys are kept private during public leaderboard\n",
    "     - Slashing if organizer does not relesase private dataset in-time\n",
    "     - Slashing if private dataset behaves in an adversarial manner \n",
    "* DAO\n",
    " "
   ]
  },
  {
   "cell_type": "code",
   "execution_count": 52,
   "id": "4e26eb81",
   "metadata": {},
   "outputs": [],
   "source": [
    "alias zkml source ~/.nvm/nvm.sh >/dev/null && nvm use 14.0.0 >/dev/null && yarn >/dev/null && ./zkml"
   ]
  },
  {
   "cell_type": "code",
   "execution_count": 53,
   "id": "49dddb39",
   "metadata": {},
   "outputs": [],
   "source": [
    "alias prepare source ~/.nvm/nvm.sh >/dev/null && nvm use 14.0.0 >/dev/null && yarn >/dev/null && yarn prepare-demo > /dev/null"
   ]
  },
  {
   "cell_type": "code",
   "execution_count": 38,
   "id": "b14a929f",
   "metadata": {},
   "outputs": [],
   "source": [
    "prepare"
   ]
  },
  {
   "cell_type": "code",
   "execution_count": 71,
   "id": "99044eec",
   "metadata": {},
   "outputs": [
    {
     "name": "stdout",
     "output_type": "stream",
     "text": [
      "Available datasets:\r\n",
      "[\r\n",
      "  \u001b[32m'14797455496207951391356508759149962584765968173479481191220882411966396840571'\u001b[39m\r\n",
      "]\r\n"
     ]
    }
   ],
   "source": [
    "zkml list_datasets"
   ]
  },
  {
   "cell_type": "code",
   "execution_count": 72,
   "id": "f97ddcf5",
   "metadata": {},
   "outputs": [
    {
     "name": "stdout",
     "output_type": "stream",
     "text": [
      "Available bounties on dataset: 14797455496207951391356508759149962584765968173479481191220882411966396840571\r\n",
      "[\r\n",
      "  {\r\n",
      "    PubKey1: \u001b[32m'8385930133524036559273104048419821016491875134467519785353152799140128167921'\u001b[39m,\r\n",
      "    PubKey2: \u001b[32m'17155255312018438018746349179262607517493307326242830912102091150670145263900'\u001b[39m,\r\n",
      "    MSEcap: \u001b[32m'12888'\u001b[39m,\r\n",
      "    Bounty: \u001b[32m'49.0'\u001b[39m,\r\n",
      "    Issuer: \u001b[32m'0x1CBd3b2770909D4e10f157cABC84C7264073C9Ec'\u001b[39m,\r\n",
      "    IPFS: \u001b[32m'QmWLRJVL5uViT7h64bdeUM3GKMWP9DSWRggGC8igDuQdHR'\u001b[39m\r\n",
      "  }\r\n",
      "]\r\n"
     ]
    }
   ],
   "source": [
    "zkml list_bounties --hash '14797455496207951391356508759149962584765968173479481191220882411966396840571'"
   ]
  },
  {
   "cell_type": "markdown",
   "id": "76e42742",
   "metadata": {},
   "source": [
    "Command:\n",
    "\n",
    "```\n",
    "zkml download_dataset --hash '14797455496207951391356508759149962584765968173479481191220882411966396840571' --publickey ./keys/out_public.json --walletprivatekey ./keys/.private_key --mse 18406 --path ./ipfs_dataset\n",
    "```"
   ]
  },
  {
   "cell_type": "code",
   "execution_count": 73,
   "id": "be8afb5d",
   "metadata": {},
   "outputs": [
    {
     "name": "stdout",
     "output_type": "stream",
     "text": [
      "Downloading from IPFS to ./ipfs_dataset ...\r\n"
     ]
    }
   ],
   "source": [
    "zkml download_dataset --hash '14797455496207951391356508759149962584765968173479481191220882411966396840571' --publickey ./keys/out_public.json --walletprivatekey ./keys/.private_key --mse 12888 --path ./ipfs_dataset"
   ]
  },
  {
   "cell_type": "code",
   "execution_count": 74,
   "id": "bd3171cb",
   "metadata": {},
   "outputs": [
    {
     "name": "stdout",
     "output_type": "stream",
     "text": [
      "X.npy Y.npy\r\n"
     ]
    }
   ],
   "source": [
    "!ls ./ipfs_dataset"
   ]
  },
  {
   "cell_type": "code",
   "execution_count": 75,
   "id": "f799a9f7",
   "metadata": {},
   "outputs": [],
   "source": [
    "import numpy as np\n",
    "import pandas as pd\n",
    "from sklearn.metrics import mean_squared_error\n",
    "\n",
    "from sklearn.linear_model import LinearRegression"
   ]
  },
  {
   "cell_type": "code",
   "execution_count": 76,
   "id": "9950504f",
   "metadata": {},
   "outputs": [],
   "source": [
    "X = np.load('./ipfs_dataset/X.npy')\n",
    "Y = np.load('./ipfs_dataset/Y.npy')"
   ]
  },
  {
   "cell_type": "code",
   "execution_count": 77,
   "id": "cbf2a7f2",
   "metadata": {},
   "outputs": [
    {
     "data": {
      "text/plain": [
       "((20, 1), (20, 4))"
      ]
     },
     "execution_count": 77,
     "metadata": {},
     "output_type": "execute_result"
    }
   ],
   "source": [
    "Y.shape, X.shape"
   ]
  },
  {
   "cell_type": "code",
   "execution_count": 78,
   "id": "e216d347",
   "metadata": {
    "scrolled": true
   },
   "outputs": [
    {
     "name": "stdout",
     "output_type": "stream",
     "text": [
      "Mean Squared Error: 0.07865899873764468\n"
     ]
    }
   ],
   "source": [
    "# Instantiating LinearRegression() Model\n",
    "lr = LinearRegression()\n",
    "\n",
    "# Training/Fitting the Model\n",
    "lr.fit(X, Y)\n",
    "\n",
    "# Making Predictions\n",
    "pred = lr.predict(X)\n",
    "\n",
    "# Evaluating Model's Performance\n",
    "print('Mean Squared Error:', mean_squared_error(y_test, pred))\n",
    "\n",
    "mse = mean_squared_error(y_test, pred)"
   ]
  },
  {
   "cell_type": "code",
   "execution_count": 79,
   "id": "4cbc2518",
   "metadata": {},
   "outputs": [],
   "source": [
    "W = lr.coef_.reshape(-1, 1)\n",
    "b = lr.intercept_.reshape(-1, 1)\n",
    "X = X_test.values[:]\n",
    "Yt_expected = y_test.values[:].reshape(-1, 1)\n",
    "\n",
    "np.save('model/W.npy',W)\n",
    "np.save('model/b.npy',b)\n",
    "np.save('dataset/X.npy',X)\n",
    "np.save('dataset/Y.npy',Yt_expected)"
   ]
  },
  {
   "cell_type": "code",
   "execution_count": 80,
   "id": "5bd41ae2",
   "metadata": {},
   "outputs": [
    {
     "name": "stdout",
     "output_type": "stream",
     "text": [
      "0.07941453957968247\n"
     ]
    }
   ],
   "source": [
    "shuffle = lambda x: np.random.shuffle(x)\n",
    "shuffle(W)\n",
    "shuffle(b)\n",
    "print(mean_squared_error(y_test, np.matmul(X_test, W.reshape(-1)) + b.reshape(-1)))\n",
    "\n",
    "np.save('model_shuffled/W.npy',W)\n",
    "np.save('model_shuffled/b.npy',b)"
   ]
  },
  {
   "cell_type": "code",
   "execution_count": 81,
   "id": "fe7e14b7",
   "metadata": {},
   "outputs": [],
   "source": [
    "from scripts import *\n",
    "from copy import deepcopy\n",
    "import json\n",
    "\n",
    "data = dict(\n",
    "    alpha_X = 0,\n",
    "    beta_X = 8,\n",
    "\n",
    "    alpha_W = -1,\n",
    "    beta_W = 8,\n",
    "\n",
    "    alpha_Y = 0,\n",
    "    beta_Y = 8,\n",
    "\n",
    "    alpha_Yt = 0,\n",
    "    beta_Yt = 8,\n",
    "\n",
    "    alpha_b = 0,\n",
    "    beta_b = 8,\n",
    "\n",
    "    alpha_R = -1,\n",
    "    beta_R = 1,\n",
    "\n",
    "    alpha_S = 0,\n",
    "    beta_S = 0.4,\n",
    "\n",
    "    m = 20,\n",
    "    p = 4,\n",
    "    n = 1,\n",
    "    \n",
    "    mse_target = 0.07864\n",
    ")\n",
    "\n",
    "json.dump(data, open('./settings.json', 'w'), indent = 2)"
   ]
  },
  {
   "cell_type": "markdown",
   "id": "a684c049",
   "metadata": {},
   "source": [
    "Command:\n",
    "\n",
    "```\n",
    "zkml claim_bounty --payment 0x2546BcD3c84621e976D8185a91A922aE77ECEc30 --model ./model_shuffled --dataset ./dataset --publickey ./keys/out_public.json --settings ./settings.json\n",
    "```"
   ]
  },
  {
   "cell_type": "code",
   "execution_count": 82,
   "id": "f6f36ed3",
   "metadata": {},
   "outputs": [
    {
     "name": "stdout",
     "output_type": "stream",
     "text": [
      "Mean Squared Error actual:  0.07941453957968254\n",
      "... quantized  13014\n",
      "Mean Squared Error simulated:  0.07939327351522920684\n",
      "... quantized  13011\n",
      "Circuit Outputs:\n",
      "13011\n",
      "Proof took 17.02 s\n",
      "ERROR: Invalid proof\n",
      "\u001b[31mAn unexpected error occurred:\u001b[39m\n",
      "\n",
      "Error: Could not verify the proof\n",
      "    at SimpleTaskDefinition.action (/Users/liaopeiyuan/Documents/GitHub/zkml-core/eth/hardhat.config.js:281:26)\n",
      "    at Environment._runTaskDefinition (/Users/liaopeiyuan/Documents/GitHub/zkml-core/eth/node_modules/\u001b[4mhardhat\u001b[24m/src/internal/core/runtime-environment.ts:217:14)\n",
      "    at Environment.run (/Users/liaopeiyuan/Documents/GitHub/zkml-core/eth/node_modules/\u001b[4mhardhat\u001b[24m/src/internal/core/runtime-environment.ts:129:14)\n",
      "    at main (/Users/liaopeiyuan/Documents/GitHub/zkml-core/eth/node_modules/\u001b[4mhardhat\u001b[24m/src/internal/cli/cli.ts:197:5)\n"
     ]
    }
   ],
   "source": [
    "zkml claim_bounty --payment 0x2546BcD3c84621e976D8185a91A922aE77ECEc30 --model ./model_shuffled --dataset ./dataset --publickey ./keys/out_public.json --settings ./settings.json"
   ]
  },
  {
   "cell_type": "markdown",
   "id": "0a9d74a9",
   "metadata": {},
   "source": [
    "Command:\n",
    "\n",
    "```\n",
    "zkml claim_bounty --payment 0x2546BcD3c84621e976D8185a91A922aE77ECEc30 --model ./model  --dataset ./dataset  --publickey ./keys/out_public.json --settings ./settings.json\n",
    "```"
   ]
  },
  {
   "cell_type": "code",
   "execution_count": 83,
   "id": "d502ddc5",
   "metadata": {},
   "outputs": [
    {
     "name": "stdout",
     "output_type": "stream",
     "text": [
      "Mean Squared Error actual:  0.0786589987376446\n",
      "... quantized  12891\n",
      "Mean Squared Error simulated:  0.07864249526948667579\n",
      "... quantized  12888\n",
      "Circuit Outputs:\n",
      "12888\n",
      "Proof took 17.131 s\n",
      "INFO: OK!\n",
      "Paying 0x2546BcD3c84621e976D8185a91A922aE77ECEc30\n",
      "With balance\n",
      "10850.6\n",
      "Your Public Key: \n",
      "[\n",
      "  \u001b[33m1700643759997457569245863490312877944508569018329107232774239121212875587628n\u001b[39m,\n",
      "  \u001b[33m12432032059012451124939976221853806268790884588923275757468717217243035579610n\u001b[39m\n",
      "]\n",
      "Your Private Key: \n",
      "\u001b[33m16643980665868843823629143933455494516978640287615526294342242121812095812996n\u001b[39m\n",
      "Current Balance\n",
      "10899.6\n"
     ]
    }
   ],
   "source": [
    "zkml claim_bounty --payment 0x2546BcD3c84621e976D8185a91A922aE77ECEc30 --model ./model  --dataset ./dataset  --publickey ./keys/out_public.json --settings ./settings.json"
   ]
  },
  {
   "cell_type": "code",
   "execution_count": 84,
   "id": "719199d6",
   "metadata": {},
   "outputs": [
    {
     "name": "stdout",
     "output_type": "stream",
     "text": [
      "Available bounties on dataset: 14797455496207951391356508759149962584765968173479481191220882411966396840571\n",
      "[]\n"
     ]
    }
   ],
   "source": [
    "zkml list_bounties --hash 14797455496207951391356508759149962584765968173479481191220882411966396840571"
   ]
  },
  {
   "cell_type": "code",
   "execution_count": 85,
   "id": "16401321",
   "metadata": {},
   "outputs": [
    {
     "name": "stdout",
     "output_type": "stream",
     "text": [
      "Available datasets:\r\n",
      "[]\r\n"
     ]
    }
   ],
   "source": [
    "zkml list_datasets"
   ]
  }
 ],
 "metadata": {
  "kernelspec": {
   "display_name": "Python 3",
   "language": "python",
   "name": "python3"
  },
  "language_info": {
   "codemirror_mode": {
    "name": "ipython",
    "version": 3
   },
   "file_extension": ".py",
   "mimetype": "text/x-python",
   "name": "python",
   "nbconvert_exporter": "python",
   "pygments_lexer": "ipython3",
   "version": "3.8.8"
  }
 },
 "nbformat": 4,
 "nbformat_minor": 5
}
