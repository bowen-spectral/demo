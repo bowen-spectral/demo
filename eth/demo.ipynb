{
 "cells": [
  {
   "cell_type": "code",
   "execution_count": 46,
   "id": "0a8de926",
   "metadata": {
    "scrolled": true
   },
   "outputs": [
    {
     "name": "stdout",
     "output_type": "stream",
     "text": [
      "\u001b[2K\u001b[1G\u001b[1myarn install v1.22.11\u001b[22m\n",
      "\u001b[2K\u001b[1G\u001b[33mwarning\u001b[39m package.json: No license field\n",
      "\u001b[2K\u001b[1G\u001b[33mwarning\u001b[39m hardhat-project: No license field\n",
      "\u001b[2K\u001b[1G\u001b[2m[1/4]\u001b[22m 🔍  Resolving packages...\n",
      "\u001b[1G⠁ \u001b[0K\u001b[2K\u001b[1G\u001b[2K\u001b[1G\u001b[2m[2/4]\u001b[22m 🚚  Fetching packages...\n",
      "\u001b[2K\u001b[1G\u001b[33mwarning\u001b[39m Pattern [\"ethereumjs-abi@git+https://github.com/ethereumjs/ethereumjs-abi.git\"] is trying to unpack in the same destination \"/Users/liaopeiyuan/Library/Caches/Yarn/v6/npm-ethereumjs-abi-0.6.8-ee3994657fa7a427238e6ba92a84d0b529bbcde0/node_modules/ethereumjs-abi\" as pattern [\"ethereumjs-abi@0.6.8\",\"ethereumjs-abi@^0.6.8\",\"ethereumjs-abi@0.6.8\"]. This could result in non-deterministic behavior, skipping.\n",
      "\u001b[2K\u001b[1G\u001b[1G[----------------------------------------------------------------------] 0/1319\u001b[1G[######--------------------------------------------------------------] 124/1319\u001b[1G[############--------------------------------------------------------] 235/1319\u001b[1G[#################---------------------------------------------------] 323/1319\u001b[1G[######################----------------------------------------------] 426/1319\u001b[1G[############################----------------------------------------] 550/1319\u001b[1G[###################################---------------------------------] 676/1319\u001b[1G[########################################----------------------------] 783/1319\u001b[1G[#############################################-----------------------] 881/1319\u001b[1G[###################################################-----------------] 991/1319\u001b[1G[#######################################################------------] 1084/1319\u001b[1G[############################################################-------] 1188/1319\u001b[2K\u001b[1G\u001b[31merror\u001b[39m hardhat@2.6.1: The engine \"node\" is incompatible with this module. Expected version \"^12.0.0 || ^14.0.0 || >=16.0.0\". Got \"10.24.1\"\n",
      "\u001b[2K\u001b[1G\u001b[31merror\u001b[39m Found incompatible module.\n",
      "\u001b[2K\u001b[1G\u001b[34minfo\u001b[39m Visit \u001b[1mhttps://yarnpkg.com/en/docs/cli/install\u001b[22m for documentation about this command.\n",
      "\u001b[2K\u001b[1G"
     ]
    }
   ],
   "source": [
    "!chmod +rwx $HOME/.nvm/nvm.sh\n",
    "!$HOME/.nvm/nvm.sh install 14.0.0\n",
    "!$HOME/.nvm/nvm.sh use 14.0.0\n",
    "!yarn"
   ]
  },
  {
   "cell_type": "code",
   "execution_count": 30,
   "id": "f975a7b7",
   "metadata": {},
   "outputs": [
    {
     "name": "stdout",
     "output_type": "stream",
     "text": [
      "\u001b[33mYou are using a version of Node.js that is not supported by Hardhat, and it may work incorrectly, or not work at all.\u001b[39m\n",
      "\u001b[33m\u001b[39m\n",
      "\u001b[33mPlease, upgrade your Node.js version.\u001b[39m\n",
      "\u001b[33m\u001b[39m\n",
      "\u001b[33mTo learn more about which versions of Node.js are supported go to https://hardhat.org/nodejs-versions\u001b[39m\n",
      "\u001b[31mAn unexpected error occurred:\u001b[39m\n",
      "\n",
      "{ Error: Cannot find module 'worker_threads'\n",
      "    at Function.Module._resolveFilename (internal/modules/cjs/loader.js:636:15)\n",
      "    at Function.Module._load (internal/modules/cjs/loader.js:562:25)\n",
      "    at Module.require (internal/modules/cjs/loader.js:692:17)\n",
      "    at require (internal/modules/cjs/helpers.js:25:18)\n",
      "    at Object.<anonymous> (/Users/liaopeiyuan/Documents/GitHub/zkml-core/eth/node_modules/web-worker/cjs/node.js:20:17)\n",
      "    at Module._compile (internal/modules/cjs/loader.js:778:30)\n",
      "    at Object.Module._extensions..js (internal/modules/cjs/loader.js:789:10)\n",
      "    at Module.load (internal/modules/cjs/loader.js:653:32)\n",
      "    at tryModuleLoad (internal/modules/cjs/loader.js:593:12)\n",
      "    at Function.Module._load (internal/modules/cjs/loader.js:585:3) code: \u001b[32m'MODULE_NOT_FOUND'\u001b[39m }\n"
     ]
    }
   ],
   "source": [
    "!npx hardhat --network localhost"
   ]
  },
  {
   "cell_type": "code",
   "execution_count": 1,
   "id": "65953ee4",
   "metadata": {},
   "outputs": [],
   "source": [
    "import numpy as np\n",
    "import pandas as pd\n",
    "from sklearn.metrics import mean_squared_error\n",
    "# Import Dataset from sklearn\n",
    "from sklearn.model_selection import train_test_split\n",
    "from sklearn.linear_model import LinearRegression"
   ]
  },
  {
   "cell_type": "code",
   "execution_count": 2,
   "id": "85d68ede",
   "metadata": {},
   "outputs": [],
   "source": [
    "from sklearn.datasets import load_iris # Load Iris Data\n",
    "\n",
    "iris = load_iris() # Creating pd DataFrames\n",
    "\n",
    "iris_df = pd.DataFrame(data= iris.data, columns= iris.feature_names)\n",
    "target_df = pd.DataFrame(data= iris.target, columns= ['species'])\n",
    "\n",
    "def converter(specie):\n",
    "    if specie == 0:\n",
    "        return 'setosa'\n",
    "    elif specie == 1:\n",
    "        return 'versicolor'\n",
    "    else:\n",
    "        return 'virginica'\n",
    "\n",
    "target_df['species'] = target_df['species'].apply(converter)# Concatenate the DataFrames\n",
    "iris_df = pd.concat([iris_df, target_df], axis= 1)"
   ]
  },
  {
   "cell_type": "code",
   "execution_count": 3,
   "id": "76b6d130",
   "metadata": {},
   "outputs": [
    {
     "name": "stdout",
     "output_type": "stream",
     "text": [
      "Mean Squared Error: 0.1123029571353145\n"
     ]
    }
   ],
   "source": [
    "# Converting Objects to Numerical dtype\n",
    "iris_df.drop('species', axis= 1, inplace= True)\n",
    "target_df = pd.DataFrame(columns= ['species'], data= iris.target)\n",
    "iris_df = pd.concat([iris_df, target_df], axis= 1)# Variables\n",
    "X= iris_df.drop(labels= 'sepal length (cm)', axis= 1)\n",
    "y= iris_df['sepal length (cm)']\n",
    "\n",
    "# Splitting the Dataset \n",
    "X_train, X_test, y_train, y_test = train_test_split(X, y, test_size= 0.13, random_state= 101)\n",
    "\n",
    "# Instantiating LinearRegression() Model\n",
    "lr = LinearRegression()\n",
    "\n",
    "# Training/Fitting the Model\n",
    "lr.fit(X_train, y_train)\n",
    "\n",
    "# Making Predictions\n",
    "lr.predict(X_test)\n",
    "pred = lr.predict(X_test)\n",
    "\n",
    "# Evaluating Model's Performance\n",
    "print('Mean Squared Error:', mean_squared_error(y_test, pred))\n",
    "\n",
    "mse = mean_squared_error(y_test, pred)"
   ]
  },
  {
   "cell_type": "code",
   "execution_count": 13,
   "id": "a5e13104",
   "metadata": {},
   "outputs": [],
   "source": [
    "W = lr.coef_.reshape(-1, 1)\n",
    "b = lr.intercept_.reshape(-1, 1)\n",
    "X = X_test.values[:]\n",
    "Yt_expected = y_test.values[:].reshape(-1, 1)\n",
    "mse_target = 0.11232375\n",
    "\n",
    "np.save('model/W.npy',W)\n",
    "np.save('model/b.npy',b)\n",
    "np.save('model/X.npy',X)\n",
    "np.save('model/Y.npy',Yt_expected)"
   ]
  },
  {
   "cell_type": "code",
   "execution_count": 15,
   "id": "fed4b7be",
   "metadata": {},
   "outputs": [],
   "source": [
    "Y_expected = np.matmul(X_test, lr.coef_) + lr.intercept_\n",
    "\n",
    "assert (Y_expected == lr.predict(X_test)).all()"
   ]
  },
  {
   "cell_type": "code",
   "execution_count": 16,
   "id": "b8c55b00",
   "metadata": {},
   "outputs": [
    {
     "name": "stdout",
     "output_type": "stream",
     "text": [
      "6.7 0.0\n",
      "0.7565732740231967 -0.49234541667216947\n",
      "7.9 4.3\n",
      "0    5.558082\n",
      "dtype: float64 0    2.913389\n",
      "dtype: float64\n",
      "0.5143332457856635 -0.553112438773117\n",
      "0.3059333699255451 0.000844615740033696\n",
      "[[1.76203114]]\n"
     ]
    }
   ],
   "source": [
    "print(X.max(), X.min())\n",
    "print(W.max(), W.min())\n",
    "print(y.values[:].max(), y.values[:].min())\n",
    "print(np.matmul(X_test, W).max(), np.matmul(X_test, W).min())\n",
    "print((y_test - pred).max(), (y_test - pred).min())\n",
    "print(((y_test - pred) ** 2).max(), ((y_test - pred) ** 2).min())\n",
    "print(b)"
   ]
  },
  {
   "cell_type": "code",
   "execution_count": 17,
   "id": "3d04b29c",
   "metadata": {},
   "outputs": [],
   "source": [
    "from scripts import *\n",
    "from copy import deepcopy\n",
    "import json\n",
    "\n",
    "data = dict(\n",
    "    alpha_X = 0,\n",
    "    beta_X = 8,\n",
    "\n",
    "    alpha_W = -1,\n",
    "    beta_W = 8,\n",
    "\n",
    "    alpha_Y = 0,\n",
    "    beta_Y = 8,\n",
    "\n",
    "    alpha_Yt = 0,\n",
    "    beta_Yt = 8,\n",
    "\n",
    "    alpha_b = 0,\n",
    "    beta_b = 8,\n",
    "\n",
    "    alpha_R = -1,\n",
    "    beta_R = 1,\n",
    "\n",
    "    alpha_S = 0,\n",
    "    beta_S = 0.4,\n",
    "\n",
    "    m = 20,\n",
    "    p = 4,\n",
    "    n = 1,\n",
    "    \n",
    "    mse_target = mse_target\n",
    ")\n",
    "\n",
    "json.dump(data, open('./settings.json', 'w'), indent = 2)"
   ]
  },
  {
   "cell_type": "code",
   "execution_count": 21,
   "id": "f653582c",
   "metadata": {},
   "outputs": [
    {
     "name": "stdout",
     "output_type": "stream",
     "text": [
      "GEMM Input Type (m,p) (p,n) (n,n) int0 int1 int2 int3 int4 int5 int6 int7\r\n",
      "gemm assertion passed\r\n",
      "error assertion passed\r\n",
      "mse assertion passed\r\n",
      "Mean Squared Error actual:  0.11230295713531464\r\n",
      "quantized  18403\r\n",
      "Mean Squared Error simulated:  0.11232375022889581895\r\n",
      "quantized  18406\r\n"
     ]
    }
   ],
   "source": [
    "!python3 scripts/quantize.py --mode model --settings settings.json --model model"
   ]
  },
  {
   "cell_type": "code",
   "execution_count": 22,
   "id": "fc87a6d2",
   "metadata": {},
   "outputs": [],
   "source": [
    "!python3 scripts/quantize.py --mode dataset --settings settings.json --model model"
   ]
  },
  {
   "cell_type": "code",
   "execution_count": 18,
   "id": "e62830e4",
   "metadata": {},
   "outputs": [
    {
     "name": "stdout",
     "output_type": "stream",
     "text": [
      "GEMM Input Type (m,p) (p,n) (n,n) int0 int1 int2 int3 int4 int5 int6 int7\n",
      "gemm assertion passed\n",
      "error assertion passed\n",
      "mse assertion passed\n",
      "Mean Squared Error actual:  0.1123029571353145\n",
      "quantized  18403\n",
      "Mean Squared Error simulated:  0.11232375022889581895\n",
      "quantized  18406\n"
     ]
    }
   ],
   "source": [
    "quant_model('model', 'settings.json')"
   ]
  },
  {
   "cell_type": "code",
   "execution_count": 19,
   "id": "28ca15f0",
   "metadata": {},
   "outputs": [],
   "source": [
    "quant_dataset('model', 'settings.json')"
   ]
  },
  {
   "cell_type": "code",
   "execution_count": null,
   "id": "5d4f6b1d",
   "metadata": {},
   "outputs": [],
   "source": []
  }
 ],
 "metadata": {
  "kernelspec": {
   "display_name": "Python 3",
   "language": "python",
   "name": "python3"
  },
  "language_info": {
   "codemirror_mode": {
    "name": "ipython",
    "version": 3
   },
   "file_extension": ".py",
   "mimetype": "text/x-python",
   "name": "python",
   "nbconvert_exporter": "python",
   "pygments_lexer": "ipython3",
   "version": "3.8.8"
  }
 },
 "nbformat": 4,
 "nbformat_minor": 5
}
