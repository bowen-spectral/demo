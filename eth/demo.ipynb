{
 "cells": [
  {
   "cell_type": "code",
   "execution_count": 1,
   "id": "d67e4546",
   "metadata": {},
   "outputs": [],
   "source": [
    "import numpy as np\n",
    "import pandas as pd\n",
    "from sklearn.metrics import mean_squared_error\n",
    "# Import Dataset from sklearn\n",
    "from sklearn.model_selection import train_test_split\n",
    "from sklearn.linear_model import LinearRegression"
   ]
  },
  {
   "cell_type": "code",
   "execution_count": 2,
   "id": "c50ceb61",
   "metadata": {},
   "outputs": [],
   "source": [
    "from sklearn.datasets import load_iris # Load Iris Data\n",
    "\n",
    "iris = load_iris() # Creating pd DataFrames\n",
    "\n",
    "iris_df = pd.DataFrame(data= iris.data, columns= iris.feature_names)\n",
    "target_df = pd.DataFrame(data= iris.target, columns= ['species'])\n",
    "\n",
    "def converter(specie):\n",
    "    if specie == 0:\n",
    "        return 'setosa'\n",
    "    elif specie == 1:\n",
    "        return 'versicolor'\n",
    "    else:\n",
    "        return 'virginica'\n",
    "\n",
    "target_df['species'] = target_df['species'].apply(converter)# Concatenate the DataFrames\n",
    "iris_df = pd.concat([iris_df, target_df], axis= 1)"
   ]
  },
  {
   "cell_type": "code",
   "execution_count": 3,
   "id": "b19d3ed1",
   "metadata": {},
   "outputs": [
    {
     "name": "stdout",
     "output_type": "stream",
     "text": [
      "Mean Squared Error: 0.1123029571353145\n"
     ]
    }
   ],
   "source": [
    "# Converting Objects to Numerical dtype\n",
    "iris_df.drop('species', axis= 1, inplace= True)\n",
    "target_df = pd.DataFrame(columns= ['species'], data= iris.target)\n",
    "iris_df = pd.concat([iris_df, target_df], axis= 1)# Variables\n",
    "X= iris_df.drop(labels= 'sepal length (cm)', axis= 1)\n",
    "y= iris_df['sepal length (cm)']\n",
    "\n",
    "# Splitting the Dataset \n",
    "X_train, X_test, y_train, y_test = train_test_split(X, y, test_size= 0.13, random_state= 101)\n",
    "\n",
    "# Instantiating LinearRegression() Model\n",
    "lr = LinearRegression()\n",
    "\n",
    "# Training/Fitting the Model\n",
    "lr.fit(X_train, y_train)\n",
    "\n",
    "# Making Predictions\n",
    "lr.predict(X_test)\n",
    "pred = lr.predict(X_test)\n",
    "\n",
    "# Evaluating Model's Performance\n",
    "print('Mean Squared Error:', mean_squared_error(y_test, pred))\n",
    "\n",
    "mse = mean_squared_error(y_test, pred)"
   ]
  },
  {
   "cell_type": "code",
   "execution_count": 4,
   "id": "c753219e",
   "metadata": {},
   "outputs": [
    {
     "name": "stdout",
     "output_type": "stream",
     "text": [
      "6.9 0.0\n",
      "7.9 4.3\n"
     ]
    }
   ],
   "source": [
    "print(X.values[:].max(), X.values[:].min())\n",
    "print(y.values[:].max(), y.values[:].min())"
   ]
  },
  {
   "cell_type": "code",
   "execution_count": 5,
   "id": "93515c3a",
   "metadata": {},
   "outputs": [],
   "source": [
    "W = lr.coef_.reshape(-1, 1)\n",
    "b = lr.intercept_.reshape(-1, 1)\n",
    "X = X_test.values[:]\n",
    "Yt_expected = y_test.values[:].reshape(-1, 1)"
   ]
  },
  {
   "cell_type": "code",
   "execution_count": 6,
   "id": "94b24907",
   "metadata": {},
   "outputs": [
    {
     "data": {
      "text/plain": [
       "(4, 1)"
      ]
     },
     "execution_count": 6,
     "metadata": {},
     "output_type": "execute_result"
    }
   ],
   "source": [
    "W.shape"
   ]
  },
  {
   "cell_type": "code",
   "execution_count": 7,
   "id": "ffac2ddb",
   "metadata": {},
   "outputs": [],
   "source": [
    "Y_expected = np.matmul(X_test, lr.coef_) + lr.intercept_\n",
    "\n",
    "assert (Y_expected == lr.predict(X_test)).all()"
   ]
  },
  {
   "cell_type": "code",
   "execution_count": 8,
   "id": "cc826e58",
   "metadata": {},
   "outputs": [
    {
     "name": "stdout",
     "output_type": "stream",
     "text": [
      "6.7 0.0\n",
      "0.7565732740231967 -0.49234541667216947\n",
      "7.9 4.3\n",
      "0    5.558082\n",
      "dtype: float64 0    2.913389\n",
      "dtype: float64\n",
      "0.5143332457856635 -0.553112438773117\n",
      "0.3059333699255451 0.000844615740033696\n",
      "[[1.76203114]]\n"
     ]
    }
   ],
   "source": [
    "print(X.max(), X.min())\n",
    "print(W.max(), W.min())\n",
    "print(y.values[:].max(), y.values[:].min())\n",
    "print(np.matmul(X_test, W).max(), np.matmul(X_test, W).min())\n",
    "print((y_test - pred).max(), (y_test - pred).min())\n",
    "print(((y_test - pred) ** 2).max(), ((y_test - pred) ** 2).min())\n",
    "print(b)"
   ]
  },
  {
   "cell_type": "code",
   "execution_count": 9,
   "id": "863ac375",
   "metadata": {},
   "outputs": [],
   "source": [
    "from scripts import q_model, q_dataset\n",
    "\n",
    "alpha_X = 0\n",
    "beta_X = 8\n",
    "\n",
    "alpha_W = -1\n",
    "beta_W = 8\n",
    "\n",
    "alpha_Y = 0\n",
    "beta_Y = 8\n",
    "\n",
    "alpha_Yt = 0\n",
    "beta_Yt = 8\n",
    "\n",
    "alpha_b = 0\n",
    "beta_b = 8\n",
    "\n",
    "alpha_R = -1\n",
    "beta_R = 1\n",
    "\n",
    "alpha_S = 0\n",
    "beta_S = 0.4\n",
    "\n",
    "m = 20\n",
    "p = 4\n",
    "n = 1"
   ]
  },
  {
   "cell_type": "code",
   "execution_count": 10,
   "id": "dc953a1b",
   "metadata": {},
   "outputs": [
    {
     "name": "stdout",
     "output_type": "stream",
     "text": [
      "GEMM Input Type (m,p) (p,n) (n,n) int0 int1 int2 int3 int4 int5 int6 int7\n",
      "gemm assertion passed\n",
      "error assertion passed\n",
      "mse assertion passed\n",
      "Mean Squared Error actual:  0.1123029571353145\n",
      "quantized  18403\n",
      "Mean Squared Error simulated:  0.11232375022889581895\n",
      "quantized  18406\n"
     ]
    }
   ],
   "source": [
    "q_model(m, p, n, \n",
    "         alpha_X, beta_X,\n",
    "         alpha_W, beta_W,\n",
    "         alpha_b, beta_b,\n",
    "         alpha_Y, beta_Y,\n",
    "         alpha_Yt, beta_Yt,\n",
    "         alpha_R, beta_R,\n",
    "         alpha_S, beta_S,\n",
    "         X, W, b, Yt_expected)"
   ]
  },
  {
   "cell_type": "code",
   "execution_count": 11,
   "id": "c82fd740",
   "metadata": {},
   "outputs": [],
   "source": [
    "q_dataset(\n",
    "         alpha_X, beta_X,\n",
    "         alpha_W, beta_W,\n",
    "         alpha_b, beta_b,\n",
    "         alpha_Y, beta_Y,\n",
    "         alpha_Yt, beta_Yt,\n",
    "         alpha_R, beta_R,\n",
    "         alpha_S, beta_S,\n",
    "         X, Yt_expected, mse)"
   ]
  },
  {
   "cell_type": "code",
   "execution_count": null,
   "id": "ca9063d9",
   "metadata": {},
   "outputs": [],
   "source": []
  }
 ],
 "metadata": {
  "kernelspec": {
   "display_name": "Python 3",
   "language": "python",
   "name": "python3"
  },
  "language_info": {
   "codemirror_mode": {
    "name": "ipython",
    "version": 3
   },
   "file_extension": ".py",
   "mimetype": "text/x-python",
   "name": "python",
   "nbconvert_exporter": "python",
   "pygments_lexer": "ipython3",
   "version": "3.8.8"
  }
 },
 "nbformat": 4,
 "nbformat_minor": 5
}
