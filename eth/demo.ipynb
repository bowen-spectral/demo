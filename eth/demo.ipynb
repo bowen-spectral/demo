{
 "cells": [
  {
   "cell_type": "markdown",
   "id": "922c41e1",
   "metadata": {},
   "source": [
    "![fig](https://raw.githubusercontent.com/zk-ml/demo/main/protocol_overview.jpg)"
   ]
  },
  {
   "cell_type": "markdown",
   "id": "de3ba1fc",
   "metadata": {},
   "source": [
    "## zk-ml: truly private machine learning on blockchain\n",
    "\n",
    "Peiyuan Liao, Milo Cress, @ludens\n",
    "\n",
    "### **Thesis: modern machine learning platforms lack security and transperancy**\n",
    "\n",
    "* https://www.kaggle.com/, https://codalab.org/, https://www.crowdai.org/\n",
    "* Experiences of competing in Kaggle as a Competitions Grandmaster (Peiyuan):\n",
    " - user downloads dataset\n",
    " - trains model\n",
    " - uploads it (???)\n",
    " - oranigzer evaluates against some test set (???) \n",
    " - and some metric (???)\n",
    " - some random meetings with the organizers (???)\n",
    " - prize is delivered \n",
    "* https://www.kaggle.com/c/deepfake-detection-challenge/discussion/157983#885598\n",
    " - Top ML competition team denied of 500k USD due to opaque data issues\n",
    "* https://www.kaggle.com/c/global-wheat-detection/discussion/167298\n",
    " - Several under-the-hood re-runs, edits to private test set, arbitrarily invalidating submissions\n",
    " \n",
    "### Solution: zk-SNARKS\n",
    "\n",
    "* ML models usually operates in float, double and half precisions, but zk-SNARKS work in prime fields\n",
    "* Quantization!\n",
    "  - Prime complement for negative numbers\n",
    "  - Slight precision loss on both sides (sometimes better, sometimes worse)\n",
    "  - Division circuits are very expernsive but doable (negatives, quotioent-remainder relationships)\n",
    "  - Multiply-add approximations for nonlinearities (sigmoid, tanh, etc.)\n",
    "\n",
    "### The zk-ml protocol\n",
    "\n",
    "* What zk-SNARKs provide: \n",
    " - succint proof of computation that neural networks perform certain way under certain datasets\n",
    "* What ETH provides:\n",
    " - securely post and claim bounties\n",
    " - reliable way to transfer model for key agreement protocol\n",
    " \n",
    "* The circuit: Linear Regression\n",
    "    - Checks that all the public inputs that defines a ml dataset (x,y pairs with quantization constants) hashes correctly to hash_input, as this will be the main key for bounty deposit and claim\n",
    "    - confirms that the actual model params correctly encrypts to the public model params. This way, the bounty issuer can simply use the public key and the encrypted params in the calldata along with their private key to restore the params\n",
    "    - Performs the model inference and confirms that it indeed has a certain measure wrt public targets.\n",
    "    - Theory behind GEMM quantization (https://leimao.github.io/article/Neural-Networks-Quantization/)\n",
    "* The contract\n",
    "    - Organizers post bounties with IPFS links to datasets\n",
    "    - Competitors query for bounty and download datasets\n",
    "    - Competitors trains model, quantizes it and generate proofs locally\n",
    "    - (if conditions are met) Competitors uploads proof and claims bounty\n",
    "    - (if conditions are not met) Organizers removes bounty and gets fund back\n",
    "\n",
    "### Future works\n",
    "\n",
    "* More ML models\n",
    " - Language models: I-BERT (https://arxiv.org/abs/2101.01321)\n",
    " - Gradient Boosted Decision Trees, XGBoost, LightGBM, etc: trees are representable as circuits\n",
    " - Compiler from neural network IR to groth16 verifier (zokrates w. optimizations)\n",
    "* Protocol revamp\n",
    " - Multiple contributions to a contract: proxy contracts\n",
    " - Pushing beyond contract size limit:\n",
    "     - Diamond patterns, libraries\n",
    "     - 16/8/4-bit quantization and bit packing inside uint256\n",
    "     - Moving zk-SNARK computation to cryptoprocessors\n",
    " - Preventing frontrunners: bounty issuer can see the calldata, front-run the transcation, and remove the bounty\n",
    " - Preventing over-fitting for over-parameterized models (MLP, ConvNets): two stage competition -> public leaderboard proof and private leaderboard proofs\n",
    " - Preventing adversarial organizers creating invalid test sets (random noise, exceptionally hard, etc).\n",
    "     - User public keys are kept private during public leaderboard\n",
    "     - Slashing if organizer does not relesase private dataset in-time\n",
    "     - Slashing if private dataset behaves in an adversarial manner \n",
    "* DAO\n",
    " "
   ]
  },
  {
   "cell_type": "code",
   "execution_count": 1,
   "id": "1b038a3d",
   "metadata": {},
   "outputs": [],
   "source": [
    "alias zkml source ~/.nvm/nvm.sh >/dev/null && nvm use 14.0.0 >/dev/null && yarn >/dev/null && ./zkml"
   ]
  },
  {
   "cell_type": "code",
   "execution_count": 2,
   "id": "5e43b2c5",
   "metadata": {},
   "outputs": [],
   "source": [
    "alias prepare source ~/.nvm/nvm.sh >/dev/null && nvm use 14.0.0 >/dev/null && yarn >/dev/null && ./zkml add_bounty --amount 1 "
   ]
  },
  {
   "cell_type": "code",
   "execution_count": 3,
   "id": "691a2bd9",
   "metadata": {},
   "outputs": [
    {
     "name": "stdout",
     "output_type": "stream",
     "text": [
      "Hashed inputs: \n",
      "\u001b[33m14797455496207951391356508759149962584765968173479481191220882411966396840571n\u001b[39m\n",
      "Your Public Key: \n",
      "[\n",
      "  \u001b[33m1201985518978813069048614242908853769836641152766343625459923948687381884866n\u001b[39m,\n",
      "  \u001b[33m19496081506364456486564631647699620263934626467785977126387698776414945878171n\u001b[39m\n",
      "]\n",
      "Your Private Key: \n",
      "\u001b[33m3078011588103099000651955808511951698555472462434891497141660669970337258902n\u001b[39m\n",
      "IPFS available at https://ipfs.io/ipfs/QmWLRJVL5uViT7h64bdeUM3GKMWP9DSWRggGC8igDuQdHR\n",
      "Current Balance\n",
      "109.616883399991896552\n"
     ]
    }
   ],
   "source": [
    "prepare"
   ]
  },
  {
   "cell_type": "code",
   "execution_count": 4,
   "id": "0b973c0f",
   "metadata": {},
   "outputs": [
    {
     "name": "stdout",
     "output_type": "stream",
     "text": [
      "Available datasets:\r\n",
      "[\r\n",
      "  \u001b[32m'14797455496207951391356508759149962584765968173479481191220882411966396840571'\u001b[39m\r\n",
      "]\r\n"
     ]
    }
   ],
   "source": [
    "zkml list_datasets"
   ]
  },
  {
   "cell_type": "code",
   "execution_count": 5,
   "id": "85848687",
   "metadata": {},
   "outputs": [
    {
     "name": "stdout",
     "output_type": "stream",
     "text": [
      "Available bounties on dataset: 14797455496207951391356508759149962584765968173479481191220882411966396840571\n",
      "[\n",
      "  {\n",
      "    PubKey1: \u001b[32m'1201985518978813069048614242908853769836641152766343625459923948687381884866'\u001b[39m,\n",
      "    PubKey2: \u001b[32m'19496081506364456486564631647699620263934626467785977126387698776414945878171'\u001b[39m,\n",
      "    MSEcap: \u001b[32m'12888'\u001b[39m,\n",
      "    Bounty: \u001b[32m'1.0'\u001b[39m,\n",
      "    Issuer: \u001b[32m'0xd3162F2B88d05C882a1B26031E144753337ACDBF'\u001b[39m,\n",
      "    IPFS: \u001b[32m'QmWLRJVL5uViT7h64bdeUM3GKMWP9DSWRggGC8igDuQdHR'\u001b[39m\n",
      "  }\n",
      "]\n"
     ]
    }
   ],
   "source": [
    "zkml list_bounties --hash '14797455496207951391356508759149962584765968173479481191220882411966396840571'"
   ]
  },
  {
   "cell_type": "markdown",
   "id": "dc6e6b4e",
   "metadata": {},
   "source": [
    "Command:\n",
    "\n",
    "```\n",
    "zkml download_dataset --hash '14797455496207951391356508759149962584765968173479481191220882411966396840571' --publickey ./keys/out_public.json --mse 12888 --path ./ipfs_dataset\n",
    "```"
   ]
  },
  {
   "cell_type": "code",
   "execution_count": 7,
   "id": "88fb5cb3",
   "metadata": {},
   "outputs": [
    {
     "name": "stdout",
     "output_type": "stream",
     "text": [
      "Downloading from IPFS to ./ipfs_dataset ...\r\n"
     ]
    }
   ],
   "source": [
    "zkml download_dataset --hash '14797455496207951391356508759149962584765968173479481191220882411966396840571' --publickey ./keys/out_public.json --mse 12888 --path ./ipfs_dataset"
   ]
  },
  {
   "cell_type": "code",
   "execution_count": 8,
   "id": "c26f44d4",
   "metadata": {},
   "outputs": [
    {
     "name": "stdout",
     "output_type": "stream",
     "text": [
      "X.npy Y.npy\r\n"
     ]
    }
   ],
   "source": [
    "!ls ./ipfs_dataset"
   ]
  },
  {
   "cell_type": "code",
   "execution_count": 9,
   "id": "49186dc2",
   "metadata": {},
   "outputs": [],
   "source": [
    "import numpy as np\n",
    "import pandas as pd\n",
    "from sklearn.metrics import mean_squared_error\n",
    "from sklearn.linear_model import LinearRegression"
   ]
  },
  {
   "cell_type": "code",
   "execution_count": 10,
   "id": "c05394f1",
   "metadata": {},
   "outputs": [],
   "source": [
    "X = np.load('./ipfs_dataset/X.npy')\n",
    "Y = np.load('./ipfs_dataset/Y.npy')"
   ]
  },
  {
   "cell_type": "code",
   "execution_count": 11,
   "id": "ac3e7fa2",
   "metadata": {},
   "outputs": [
    {
     "data": {
      "text/plain": [
       "((20, 1), (20, 4))"
      ]
     },
     "execution_count": 11,
     "metadata": {},
     "output_type": "execute_result"
    }
   ],
   "source": [
    "Y.shape, X.shape"
   ]
  },
  {
   "cell_type": "code",
   "execution_count": 14,
   "id": "db1370a1",
   "metadata": {
    "scrolled": true
   },
   "outputs": [
    {
     "name": "stdout",
     "output_type": "stream",
     "text": [
      "Mean Squared Error: 0.07865899873764468\n"
     ]
    }
   ],
   "source": [
    "# Instantiating LinearRegression() Model\n",
    "lr = LinearRegression()\n",
    "\n",
    "# Training/Fitting the Model\n",
    "lr.fit(X, Y)\n",
    "\n",
    "# Making Predictions\n",
    "pred = lr.predict(X)\n",
    "\n",
    "# Evaluating Model's Performance\n",
    "print('Mean Squared Error:', mean_squared_error(Y, pred))\n",
    "\n",
    "mse = mean_squared_error(Y, pred)"
   ]
  },
  {
   "cell_type": "code",
   "execution_count": 17,
   "id": "c557151e",
   "metadata": {},
   "outputs": [],
   "source": [
    "W = lr.coef_.reshape(-1, 1)\n",
    "b = lr.intercept_.reshape(-1, 1)\n",
    "Yt_expected = Y.reshape(-1, 1)\n",
    "\n",
    "np.save('model/W.npy',W)\n",
    "np.save('model/b.npy',b)\n",
    "np.save('dataset/X.npy',X)\n",
    "np.save('dataset/Y.npy',Yt_expected)"
   ]
  },
  {
   "cell_type": "code",
   "execution_count": 20,
   "id": "051e409a",
   "metadata": {},
   "outputs": [
    {
     "name": "stdout",
     "output_type": "stream",
     "text": [
      "0.658287887486153\n"
     ]
    }
   ],
   "source": [
    "shuffle = lambda x: np.random.shuffle(x)\n",
    "shuffle(W)\n",
    "shuffle(b)\n",
    "print(mean_squared_error(Y, np.matmul(X, W.reshape(-1)) + b.reshape(-1)))\n",
    "\n",
    "np.save('model_shuffled/W.npy',W)\n",
    "np.save('model_shuffled/b.npy',b)"
   ]
  },
  {
   "cell_type": "code",
   "execution_count": 21,
   "id": "c701563a",
   "metadata": {},
   "outputs": [],
   "source": [
    "from scripts import *\n",
    "from copy import deepcopy\n",
    "import json\n",
    "\n",
    "data = dict(\n",
    "    alpha_X = 0,\n",
    "    beta_X = 8,\n",
    "\n",
    "    alpha_W = -1,\n",
    "    beta_W = 8,\n",
    "\n",
    "    alpha_Y = 0,\n",
    "    beta_Y = 8,\n",
    "\n",
    "    alpha_Yt = 0,\n",
    "    beta_Yt = 8,\n",
    "\n",
    "    alpha_b = 0,\n",
    "    beta_b = 8,\n",
    "\n",
    "    alpha_R = -1,\n",
    "    beta_R = 1,\n",
    "\n",
    "    alpha_S = 0,\n",
    "    beta_S = 0.4,\n",
    "\n",
    "    m = 20,\n",
    "    p = 4,\n",
    "    n = 1,\n",
    "    \n",
    "    mse_target = 0.07864\n",
    ")\n",
    "\n",
    "json.dump(data, open('./settings.json', 'w'), indent = 2)"
   ]
  },
  {
   "cell_type": "markdown",
   "id": "eb10a39a",
   "metadata": {},
   "source": [
    "Command:\n",
    "\n",
    "```\n",
    "zkml claim_bounty --payment 0x2546BcD3c84621e976D8185a91A922aE77ECEc30 --model ./model_shuffled --dataset ./dataset --publickey ./keys/out_public.json --settings ./settings.json\n",
    "```"
   ]
  },
  {
   "cell_type": "code",
   "execution_count": 22,
   "id": "02d90771",
   "metadata": {},
   "outputs": [
    {
     "name": "stdout",
     "output_type": "stream",
     "text": [
      "Mean Squared Error actual:  0.658287887486153\n",
      "... quantized  65536\n",
      "Mean Squared Error simulated:  0.65811511933101396465\n",
      "... quantized  65536\n",
      "Circuit Outputs:\n",
      "107823\n",
      "Proof took 17.329 s\n",
      "ERROR: Invalid proof\n",
      "\u001b[31mAn unexpected error occurred:\u001b[39m\n",
      "\n",
      "Error: Could not verify the proof\n",
      "    at SimpleTaskDefinition.action (/Users/liaopeiyuan/Documents/GitHub/zkml-core/eth/hardhat.config.js:273:26)\n",
      "    at Environment._runTaskDefinition (/Users/liaopeiyuan/Documents/GitHub/zkml-core/eth/node_modules/\u001b[4mhardhat\u001b[24m/src/internal/core/runtime-environment.ts:217:14)\n",
      "    at Environment.run (/Users/liaopeiyuan/Documents/GitHub/zkml-core/eth/node_modules/\u001b[4mhardhat\u001b[24m/src/internal/core/runtime-environment.ts:129:14)\n",
      "    at main (/Users/liaopeiyuan/Documents/GitHub/zkml-core/eth/node_modules/\u001b[4mhardhat\u001b[24m/src/internal/cli/cli.ts:197:5)\n"
     ]
    }
   ],
   "source": [
    "zkml claim_bounty --payment 0xd3162F2B88d05C882a1B26031E144753337ACDBF --model ./model_shuffled --dataset ./dataset --publickey ./keys/out_public.json --settings ./settings.json"
   ]
  },
  {
   "cell_type": "markdown",
   "id": "724d3438",
   "metadata": {},
   "source": [
    "Command:\n",
    "\n",
    "```\n",
    "zkml claim_bounty --payment 0x2546BcD3c84621e976D8185a91A922aE77ECEc30 --model ./model  --dataset ./dataset  --publickey ./keys/out_public.json --settings ./settings.json\n",
    "```"
   ]
  },
  {
   "cell_type": "code",
   "execution_count": 23,
   "id": "f1477fd6",
   "metadata": {},
   "outputs": [
    {
     "name": "stdout",
     "output_type": "stream",
     "text": [
      "Mean Squared Error actual:  0.0786589987376446\n",
      "... quantized  12891\n",
      "Mean Squared Error simulated:  0.07864249526948667579\n",
      "... quantized  12888\n",
      "Circuit Outputs:\n",
      "12888\n",
      "Proof took 16.409 s\n",
      "INFO: OK!\n",
      "Paying 0xd3162F2B88d05C882a1B26031E144753337ACDBF\n",
      "With balance\n",
      "108.616501100991896552\n",
      "Your Public Key: \n",
      "[\n",
      "  \u001b[33m4842771413884360979635609941922451201670854864962458988387057397512039623940n\u001b[39m,\n",
      "  \u001b[33m313941953243899344658502354250141108878460697882164557538046223348611775672n\u001b[39m\n",
      "]\n",
      "Your Private Key: \n",
      "\u001b[33m5581888367090473215770974626509128864134834921982778138974737194930113876268n\u001b[39m\n",
      "Current Balance\n",
      "108.616501100991896552\n"
     ]
    }
   ],
   "source": [
    "zkml claim_bounty --payment 0xd3162F2B88d05C882a1B26031E144753337ACDBF --model ./model  --dataset ./dataset  --publickey ./keys/out_public.json --settings ./settings.json"
   ]
  },
  {
   "cell_type": "code",
   "execution_count": 24,
   "id": "e425fa00",
   "metadata": {},
   "outputs": [
    {
     "name": "stdout",
     "output_type": "stream",
     "text": [
      "Available bounties on dataset: 14797455496207951391356508759149962584765968173479481191220882411966396840571\n",
      "[]\n"
     ]
    }
   ],
   "source": [
    "zkml list_bounties --hash 14797455496207951391356508759149962584765968173479481191220882411966396840571"
   ]
  },
  {
   "cell_type": "code",
   "execution_count": 25,
   "id": "80df2810",
   "metadata": {},
   "outputs": [
    {
     "name": "stdout",
     "output_type": "stream",
     "text": [
      "Available datasets:\n",
      "[]\n"
     ]
    }
   ],
   "source": [
    "zkml list_datasets"
   ]
  },
  {
   "cell_type": "code",
   "execution_count": null,
   "id": "d3939b86",
   "metadata": {},
   "outputs": [],
   "source": []
  }
 ],
 "metadata": {
  "kernelspec": {
   "display_name": "Python 3",
   "language": "python",
   "name": "python3"
  },
  "language_info": {
   "codemirror_mode": {
    "name": "ipython",
    "version": 3
   },
   "file_extension": ".py",
   "mimetype": "text/x-python",
   "name": "python",
   "nbconvert_exporter": "python",
   "pygments_lexer": "ipython3",
   "version": "3.8.8"
  }
 },
 "nbformat": 4,
 "nbformat_minor": 5
}
