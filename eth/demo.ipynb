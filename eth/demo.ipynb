{
 "cells": [
  {
   "cell_type": "code",
   "execution_count": 1,
   "id": "78eb7e88",
   "metadata": {},
   "outputs": [],
   "source": [
    "alias zkml source ~/.nvm/nvm.sh >/dev/null && nvm use 14.0.0 >/dev/null && yarn >/dev/null && ./zkml"
   ]
  },
  {
   "cell_type": "code",
   "execution_count": 2,
   "id": "42f24fa2",
   "metadata": {},
   "outputs": [],
   "source": [
    "import numpy as np\n",
    "import pandas as pd\n",
    "from sklearn.metrics import mean_squared_error\n",
    "\n",
    "from sklearn.model_selection import train_test_split\n",
    "from sklearn.linear_model import LinearRegression"
   ]
  },
  {
   "cell_type": "code",
   "execution_count": 3,
   "id": "3dd465f8",
   "metadata": {},
   "outputs": [],
   "source": [
    "from sklearn.datasets import load_iris # Load Iris Data\n",
    "\n",
    "iris = load_iris() # Creating pd DataFrames\n",
    "\n",
    "iris_df = pd.DataFrame(data= iris.data, columns= iris.feature_names)\n",
    "target_df = pd.DataFrame(data= iris.target, columns= ['species'])\n",
    "\n",
    "def converter(specie):\n",
    "    if specie == 0:\n",
    "        return 'setosa'\n",
    "    elif specie == 1:\n",
    "        return 'versicolor'\n",
    "    else:\n",
    "        return 'virginica'\n",
    "\n",
    "target_df['species'] = target_df['species'].apply(converter)# Concatenate the DataFrames\n",
    "iris_df = pd.concat([iris_df, target_df], axis= 1)"
   ]
  },
  {
   "cell_type": "code",
   "execution_count": 4,
   "id": "595aa35d",
   "metadata": {
    "scrolled": true
   },
   "outputs": [
    {
     "name": "stdout",
     "output_type": "stream",
     "text": [
      "Mean Squared Error: 0.1123029571353145\n"
     ]
    }
   ],
   "source": [
    "# Converting Objects to Numerical dtype\n",
    "iris_df.drop('species', axis= 1, inplace= True)\n",
    "target_df = pd.DataFrame(columns= ['species'], data= iris.target)\n",
    "iris_df = pd.concat([iris_df, target_df], axis= 1)# Variables\n",
    "X= iris_df.drop(labels= 'sepal length (cm)', axis= 1)\n",
    "y= iris_df['sepal length (cm)']\n",
    "\n",
    "# Splitting the Dataset \n",
    "X_train, X_test, y_train, y_test = train_test_split(X, y, test_size= 0.13, random_state= 101)\n",
    "\n",
    "# Instantiating LinearRegression() Model\n",
    "lr = LinearRegression()\n",
    "\n",
    "# Training/Fitting the Model\n",
    "lr.fit(X_train, y_train)\n",
    "\n",
    "# Making Predictions\n",
    "lr.predict(X_test)\n",
    "pred = lr.predict(X_test)\n",
    "\n",
    "# Evaluating Model's Performance\n",
    "print('Mean Squared Error:', mean_squared_error(y_test, pred))\n",
    "\n",
    "mse = mean_squared_error(y_test, pred)"
   ]
  },
  {
   "cell_type": "code",
   "execution_count": 5,
   "id": "825929e4",
   "metadata": {},
   "outputs": [],
   "source": [
    "shuffle = lambda x: np.random.shuffle(x)"
   ]
  },
  {
   "cell_type": "code",
   "execution_count": 6,
   "id": "ed91450d",
   "metadata": {},
   "outputs": [],
   "source": [
    "W = lr.coef_.reshape(-1, 1)\n",
    "b = lr.intercept_.reshape(-1, 1)\n",
    "X = X_test.values[:]\n",
    "Yt_expected = y_test.values[:].reshape(-1, 1)\n",
    "mse_target = 0.11232375\n",
    "\n",
    "np.save('model/W.npy',W)\n",
    "np.save('model/b.npy',b)\n",
    "np.save('dataset/X.npy',X)\n",
    "np.save('dataset/Y.npy',Yt_expected)"
   ]
  },
  {
   "cell_type": "code",
   "execution_count": 7,
   "id": "09efa17c",
   "metadata": {},
   "outputs": [
    {
     "name": "stdout",
     "output_type": "stream",
     "text": [
      "0.2016566502876671\n"
     ]
    }
   ],
   "source": [
    "shuffle(W)\n",
    "shuffle(b)\n",
    "print(mean_squared_error(y_test, np.matmul(X_test, W.reshape(-1)) + b.reshape(-1)))\n",
    "\n",
    "np.save('model_shuffled/W.npy',W)\n",
    "np.save('model_shuffled/b.npy',b)"
   ]
  },
  {
   "cell_type": "code",
   "execution_count": 8,
   "id": "253545cc",
   "metadata": {},
   "outputs": [],
   "source": [
    "Y_expected = np.matmul(X_test, lr.coef_) + lr.intercept_\n",
    "\n",
    "assert (Y_expected == lr.predict(X_test)).all()"
   ]
  },
  {
   "cell_type": "code",
   "execution_count": 9,
   "id": "4aeb99cf",
   "metadata": {},
   "outputs": [],
   "source": [
    "from scripts import *\n",
    "from copy import deepcopy\n",
    "import json\n",
    "\n",
    "data = dict(\n",
    "    alpha_X = 0,\n",
    "    beta_X = 8,\n",
    "\n",
    "    alpha_W = -1,\n",
    "    beta_W = 8,\n",
    "\n",
    "    alpha_Y = 0,\n",
    "    beta_Y = 8,\n",
    "\n",
    "    alpha_Yt = 0,\n",
    "    beta_Yt = 8,\n",
    "\n",
    "    alpha_b = 0,\n",
    "    beta_b = 8,\n",
    "\n",
    "    alpha_R = -1,\n",
    "    beta_R = 1,\n",
    "\n",
    "    alpha_S = 0,\n",
    "    beta_S = 0.4,\n",
    "\n",
    "    m = 20,\n",
    "    p = 4,\n",
    "    n = 1,\n",
    "    \n",
    "    mse_target = mse_target\n",
    ")\n",
    "\n",
    "json.dump(data, open('./settings.json', 'w'), indent = 2)"
   ]
  },
  {
   "cell_type": "code",
   "execution_count": 10,
   "id": "83f6d93c",
   "metadata": {},
   "outputs": [
    {
     "name": "stdout",
     "output_type": "stream",
     "text": [
      "Hashed inputs: \n",
      "\u001b[33m14797455496207951391356508759149962584765968173479481191220882411966396840571n\u001b[39m\n",
      "Your Public Key: \n",
      "[\n",
      "  \u001b[33m12060908413538201792894054202921076854256908664654936847650046798114054806836n\u001b[39m,\n",
      "  \u001b[33m8490429124186248938105519123104739452287602364733895530169747915759012304707n\u001b[39m\n",
      "]\n",
      "Your Private Key: \n",
      "\u001b[33m5759055287239188186952624470596478892070755867490418747173631146704844514845n\u001b[39m\n",
      "Current Balance\n",
      "9029.040027305\n"
     ]
    }
   ],
   "source": [
    "zkml add_bounty --amount 11.1 --keyfile ./out --walletprivatekey ./keys/.private_key --dataset ./dataset --settings ./settings.json"
   ]
  },
  {
   "cell_type": "code",
   "execution_count": 11,
   "id": "a4ba2b71",
   "metadata": {},
   "outputs": [
    {
     "name": "stdout",
     "output_type": "stream",
     "text": [
      "Available bounties on dataset: dataset\r\n",
      "[\r\n",
      "  {\r\n",
      "    \u001b[32m'publickey-1'\u001b[39m: \u001b[32m'9034578064572512214535301210539208408830664951051263007560019313942236166417'\u001b[39m,\r\n",
      "    \u001b[32m'publickey-2'\u001b[39m: \u001b[32m'4995903678092667726400702912124052816223616090560699902572601312415845443763'\u001b[39m,\r\n",
      "    \u001b[32m'MSE-Cap'\u001b[39m: \u001b[32m'18406'\u001b[39m\r\n",
      "  },\r\n",
      "  {\r\n",
      "    \u001b[32m'publickey-1'\u001b[39m: \u001b[32m'6034246696949266198719295105718623837645220054485528158005177132825214698550'\u001b[39m,\r\n",
      "    \u001b[32m'publickey-2'\u001b[39m: \u001b[32m'18373206073940188927074635457118967618467836856367301013723120319277640982446'\u001b[39m,\r\n",
      "    \u001b[32m'MSE-Cap'\u001b[39m: \u001b[32m'18406'\u001b[39m\r\n",
      "  }\r\n",
      "]\r\n"
     ]
    }
   ],
   "source": [
    "zkml list_bounties --hash 14797455496207951391356508759149962584765968173479481191220882411966396840571"
   ]
  },
  {
   "cell_type": "code",
   "execution_count": 12,
   "id": "69c1c37f",
   "metadata": {},
   "outputs": [
    {
     "name": "stdout",
     "output_type": "stream",
     "text": [
      "Available datasets:\r\n",
      "[\r\n",
      "  [\r\n",
      "    \u001b[32m'dataset'\u001b[39m,\r\n",
      "    \u001b[32m'14797455496207951391356508759149962584765968173479481191220882411966396840571'\u001b[39m\r\n",
      "  ]\r\n",
      "]\r\n"
     ]
    }
   ],
   "source": [
    "zkml list_datasets"
   ]
  },
  {
   "cell_type": "code",
   "execution_count": 13,
   "id": "692a90bc",
   "metadata": {},
   "outputs": [
    {
     "name": "stdout",
     "output_type": "stream",
     "text": [
      "Mean Squared Error actual:  0.20165665028766702\n",
      "... quantized  33041\n",
      "Mean Squared Error simulated:  0.20177623145943968108\n",
      "... quantized  33061\n",
      "Circuit Outputs:\n",
      "33061\n",
      "Proof took 18.21 s\n",
      "ERROR: Invalid proof\n",
      "\u001b[31mAn unexpected error occurred:\u001b[39m\n",
      "\n",
      "Error: Could not verify the proof\n",
      "    at SimpleTaskDefinition.action (/Users/liaopeiyuan/Documents/GitHub/zkml-core/eth/hardhat.config.js:246:26)\n",
      "    at Environment._runTaskDefinition (/Users/liaopeiyuan/Documents/GitHub/zkml-core/eth/node_modules/\u001b[4mhardhat\u001b[24m/src/internal/core/runtime-environment.ts:217:14)\n",
      "    at Environment.run (/Users/liaopeiyuan/Documents/GitHub/zkml-core/eth/node_modules/\u001b[4mhardhat\u001b[24m/src/internal/core/runtime-environment.ts:129:14)\n",
      "    at main (/Users/liaopeiyuan/Documents/GitHub/zkml-core/eth/node_modules/\u001b[4mhardhat\u001b[24m/src/internal/cli/cli.ts:197:5)\n"
     ]
    }
   ],
   "source": [
    "zkml claim_bounty --payment 0x2546BcD3c84621e976D8185a91A922aE77ECEc30 --model ./model_shuffled --dataset ./dataset --publickey ./keys/out_public.json --settings ./settings.json"
   ]
  },
  {
   "cell_type": "code",
   "execution_count": 14,
   "id": "1895602d",
   "metadata": {},
   "outputs": [
    {
     "name": "stdout",
     "output_type": "stream",
     "text": [
      "Mean Squared Error actual:  0.11230295713531464\n",
      "... quantized  18403\n",
      "Mean Squared Error simulated:  0.11232375022889581895\n",
      "... quantized  18406\n",
      "Circuit Outputs:\n",
      "18406\n",
      "Proof took 17.852 s\n",
      "INFO: OK!\n",
      "Paying 0x2546BcD3c84621e976D8185a91A922aE77ECEc30\n",
      "With balance\n",
      "10534.4\n",
      "Your Public Key: \n",
      "[\n",
      "  \u001b[33m18782685461751928671655049660894467121186505774997799430262952740146315877959n\u001b[39m,\n",
      "  \u001b[33m3586312028609090491687124451725437750342434223796397850556593341065787359387n\u001b[39m\n",
      "]\n",
      "Your Private Key: \n",
      "\u001b[33m15810074267045938560613252922231619211285902817723257628868238586166121631315n\u001b[39m\n",
      "Current Balance\n",
      "10545.5\n"
     ]
    }
   ],
   "source": [
    "zkml claim_bounty --payment 0x2546BcD3c84621e976D8185a91A922aE77ECEc30 --model ./model  --dataset ./dataset  --publickey ./keys/out_public.json --settings ./settings.json"
   ]
  },
  {
   "cell_type": "code",
   "execution_count": 15,
   "id": "58c06de6",
   "metadata": {},
   "outputs": [
    {
     "name": "stdout",
     "output_type": "stream",
     "text": [
      "Available bounties on dataset: dataset\n",
      "[\n",
      "  {\n",
      "    \u001b[32m'publickey-1'\u001b[39m: \u001b[32m'9034578064572512214535301210539208408830664951051263007560019313942236166417'\u001b[39m,\n",
      "    \u001b[32m'publickey-2'\u001b[39m: \u001b[32m'4995903678092667726400702912124052816223616090560699902572601312415845443763'\u001b[39m,\n",
      "    \u001b[32m'MSE-Cap'\u001b[39m: \u001b[32m'18406'\u001b[39m\n",
      "  }\n",
      "]\n"
     ]
    }
   ],
   "source": [
    "zkml list_bounties --hash 14797455496207951391356508759149962584765968173479481191220882411966396840571"
   ]
  },
  {
   "cell_type": "code",
   "execution_count": 16,
   "id": "ba2c049c",
   "metadata": {},
   "outputs": [
    {
     "name": "stdout",
     "output_type": "stream",
     "text": [
      "Available datasets:\r\n",
      "[\r\n",
      "  [\r\n",
      "    \u001b[32m'dataset'\u001b[39m,\r\n",
      "    \u001b[32m'14797455496207951391356508759149962584765968173479481191220882411966396840571'\u001b[39m\r\n",
      "  ]\r\n",
      "]\r\n"
     ]
    }
   ],
   "source": [
    "zkml list_datasets"
   ]
  },
  {
   "cell_type": "code",
   "execution_count": null,
   "id": "6a5c4de3",
   "metadata": {},
   "outputs": [],
   "source": []
  }
 ],
 "metadata": {
  "kernelspec": {
   "display_name": "Python 3",
   "language": "python",
   "name": "python3"
  },
  "language_info": {
   "codemirror_mode": {
    "name": "ipython",
    "version": 3
   },
   "file_extension": ".py",
   "mimetype": "text/x-python",
   "name": "python",
   "nbconvert_exporter": "python",
   "pygments_lexer": "ipython3",
   "version": "3.8.8"
  }
 },
 "nbformat": 4,
 "nbformat_minor": 5
}
