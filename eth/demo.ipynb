{
 "cells": [
  {
   "cell_type": "markdown",
   "id": "3c56ee75",
   "metadata": {},
   "source": [
    "![fig](https://raw.githubusercontent.com/zk-ml/demo/main/protocol_overview.jpg)"
   ]
  },
  {
   "cell_type": "markdown",
   "id": "de3ba1fc",
   "metadata": {},
   "source": [
    "## zk-ml: truly private machine learning on blockchain\n",
    "\n",
    "Peiyuan Liao, Milo Cress, @ludens\n",
    "\n",
    "### **Thesis: modern machine learning platforms lack security and transperancy**\n",
    "\n",
    "* https://www.kaggle.com/, https://codalab.org/, https://www.crowdai.org/\n",
    "* Experiences of competing in Kaggle as a Competitions Grandmaster (Peiyuan):\n",
    " - user downloads dataset\n",
    " - trains model\n",
    " - uploads it (???)\n",
    " - oranigzer evaluates against some test set (???) \n",
    " - and some metric (???)\n",
    " - some random meetings with the organizers (???)\n",
    " - prize is delivered \n",
    "* https://www.kaggle.com/c/deepfake-detection-challenge/discussion/157983#885598\n",
    " - Top ML competition team denied of 500k USD due to opaque data issues\n",
    "* https://www.kaggle.com/c/global-wheat-detection/discussion/167298\n",
    " - Several under-the-hood re-runs, edits to private test set, arbitrarily invalidating submissions\n",
    " \n",
    "### Solution: zk-SNARKS on Blockchain\n",
    "\n",
    "* What zk-SNARKs provide: \n",
    " - succint proof of computation that neural networks perform certain way under certain datasets\n",
    "* What the blockahin provides:\n",
    " - securely post and claim bounties\n",
    " - reliable way to transfer model for key agreement protocol\n",
    "* ML models usually operates in float, double and half precisions, but zk-SNARKS work in prime fields\n",
    "* Quantization!\n",
    "  - Prime complement for negative numbers\n",
    "  - Slight precision loss on both sides (sometimes better, sometimes worse)\n",
    "  - Division circuits are very expernsive but doable (negatives, quotioent-remainder relationships)\n",
    "  - Multiply-add approximations for nonlinearities (sigmoid, tanh, etc.)\n",
    "\n",
    "### The zk-ml protocol\n",
    "\n",
    "* The circuit: Linear Regression\n",
    "    - Checks that all the public inputs that defines a ml dataset (x,y pairs with quantization constants) hashes correctly to hash_input, as this will be the main key for bounty deposit and claim\n",
    "    - confirms that the actual model params correctly encrypts to the public model params. This way, the bounty issuer can simply use the public key and the encrypted params in the calldata along with their private key to restore the params\n",
    "    - Performs the model inference and confirms that it indeed has a certain measure wrt public targets.\n",
    "    - Theory behind GEMM quantization: https://leimao.github.io/article/Neural-Networks-Quantization/\n",
    "* The contract\n",
    "    - Organizers post bounties with IPFS links to datasets\n",
    "    - Competitors query for bounty and download datasets\n",
    "    - Competitors trains model, quantizes it and generate proofs locally\n",
    "    - (if conditions are met) Competitors uploads proof and claims bounty\n",
    "    - (if conditions are not met) Organizers removes bounty and gets fund back\n",
    "\n",
    "### Future works\n",
    "\n",
    "* More ML models\n",
    " - Language models: I-BERT (https://arxiv.org/abs/2101.01321)\n",
    " - Gradient Boosted Decision Trees, XGBoost, LightGBM, etc: trees are representable as circuits\n",
    " - Compiler from neural network IR to groth16 verifier (zokrates w. optimizations)\n",
    "* Protocol revamp\n",
    " - Multiple contributions to a contract: proxy contracts\n",
    " - Pushing beyond contract size limit:\n",
    "     - Diamond patterns, libraries\n",
    "     - 16/8/4-bit quantization and bit packing inside uint256\n",
    "     - Moving zk-SNARK computation to cryptoprocessors\n",
    " - Preventing frontrunners: bounty issuer can see the calldata, front-run the transcation, and remove the bounty\n",
    " - Preventing over-fitting for over-parameterized models (MLP, ConvNets): two stage competition -> public leaderboard proof and private leaderboard proofs\n",
    " - Preventing adversarial organizers creating invalid test sets (random noise, exceptionally hard, etc).\n",
    "     - User public keys are kept private during public leaderboard\n",
    "     - Slashing if organizer does not relesase private dataset in-time\n",
    "     - Slashing if private dataset behaves in an adversarial manner \n",
    "* DAO\n",
    " "
   ]
  },
  {
   "cell_type": "code",
   "execution_count": 1,
   "id": "1b038a3d",
   "metadata": {},
   "outputs": [],
   "source": [
    "alias zkml source ~/.nvm/nvm.sh >/dev/null && nvm use 14.0.0 >/dev/null && yarn >/dev/null && bash zkml"
   ]
  },
  {
   "cell_type": "code",
   "execution_count": 2,
   "id": "5e43b2c5",
   "metadata": {},
   "outputs": [],
   "source": [
    "alias prepare source ~/.nvm/nvm.sh >/dev/null && nvm use 14.0.0 >/dev/null && yarn >/dev/null && bash zkml add_bounty --amount 5 >/dev/null "
   ]
  },
  {
   "cell_type": "code",
   "execution_count": 5,
   "id": "691a2bd9",
   "metadata": {},
   "outputs": [
    {
     "name": "stdout",
     "output_type": "stream",
     "text": [
      "An unexpected error occurred:\r\n",
      "HTTPError: basic auth failure: invalid project id or project secret\r\n",
      "\r\n",
      "    at Object.errorHandler [as handleError] (/home/bowen/Desktop/workspace/demo/eth/node_modules/\u001b[4mipfs-http-client\u001b[24m/src/lib/core.js:100:15)\r\n",
      "\u001b[90m    at processTicksAndRejections (internal/process/task_queues.js:97:5)\u001b[39m\r\n",
      "    at Client.fetch (/home/bowen/Desktop/workspace/demo/eth/node_modules/\u001b[4mipfs-utils\u001b[24m/src/http.js:145:9)\r\n",
      "    at Object.addAll (/home/bowen/Desktop/workspace/demo/eth/node_modules/\u001b[4mipfs-http-client\u001b[24m/src/add-all.js:40:17)\r\n",
      "    at SimpleTaskDefinition.action (/home/bowen/Desktop/workspace/demo/eth/hardhat.config.js:533:22)\r\n",
      "    at Environment._runTaskDefinition (/home/bowen/Desktop/workspace/demo/eth/node_modules/\u001b[4mhardhat\u001b[24m/src/internal/core/runtime-environment.ts:217:14)\r\n",
      "    at Environment.run (/home/bowen/Desktop/workspace/demo/eth/node_modules/\u001b[4mhardhat\u001b[24m/src/internal/core/runtime-environment.ts:129:14)\r\n",
      "    at main (/home/bowen/Desktop/workspace/demo/eth/node_modules/\u001b[4mhardhat\u001b[24m/src/internal/cli/cli.ts:197:5) {\r\n",
      "  response: Response {\r\n",
      "    size: \u001b[33m0\u001b[39m,\r\n",
      "    timeout: \u001b[33m0\u001b[39m,\r\n",
      "    [\u001b[32mSymbol(Body internals)\u001b[39m]: { body: \u001b[36m[PassThrough]\u001b[39m, disturbed: \u001b[33mtrue\u001b[39m, error: \u001b[1mnull\u001b[22m },\r\n",
      "    [\u001b[32mSymbol(Response internals)\u001b[39m]: {\r\n",
      "      url: \u001b[32m'https://ipfs.infura.io:5001/api/v0/add?stream-channels=true&progress=false'\u001b[39m,\r\n",
      "      status: \u001b[33m401\u001b[39m,\r\n",
      "      statusText: \u001b[32m'Unauthorized'\u001b[39m,\r\n",
      "      headers: \u001b[36m[Headers]\u001b[39m,\r\n",
      "      counter: \u001b[33m0\u001b[39m\r\n",
      "    }\r\n",
      "  }\r\n",
      "}\r\n"
     ]
    }
   ],
   "source": [
    "prepare"
   ]
  },
  {
   "cell_type": "code",
   "execution_count": 4,
   "id": "0b973c0f",
   "metadata": {},
   "outputs": [
    {
     "name": "stdout",
     "output_type": "stream",
     "text": [
      "Available datasets:\r\n",
      "[\r\n",
      "  \u001b[32m'14797455496207951391356508759149962584765968173479481191220882411966396840571'\u001b[39m\r\n",
      "]\r\n"
     ]
    }
   ],
   "source": [
    "zkml list_datasets"
   ]
  },
  {
   "cell_type": "code",
   "execution_count": 5,
   "id": "85848687",
   "metadata": {},
   "outputs": [
    {
     "name": "stdout",
     "output_type": "stream",
     "text": [
      "Available bounties on dataset: 14797455496207951391356508759149962584765968173479481191220882411966396840571\n",
      "[\n",
      "  {\n",
      "    PubKey1: \u001b[32m'4335450774744029667338374268876724953162212166350367311071783936960844219437'\u001b[39m,\n",
      "    PubKey2: \u001b[32m'12294985779291632745949915528747628813970908319399977746384186218556045373103'\u001b[39m,\n",
      "    MSEcap: \u001b[32m'12888'\u001b[39m,\n",
      "    Bounty: \u001b[32m'5.0'\u001b[39m,\n",
      "    Issuer: \u001b[32m'0xd3162F2B88d05C882a1B26031E144753337ACDBF'\u001b[39m,\n",
      "    IPFS: \u001b[32m'QmWLRJVL5uViT7h64bdeUM3GKMWP9DSWRggGC8igDuQdHR'\u001b[39m\n",
      "  }\n",
      "]\n"
     ]
    }
   ],
   "source": [
    "zkml list_bounties --hash '14797455496207951391356508759149962584765968173479481191220882411966396840571'"
   ]
  },
  {
   "cell_type": "markdown",
   "id": "dc6e6b4e",
   "metadata": {},
   "source": [
    "Command:\n",
    "\n",
    "```\n",
    "zkml download_dataset --hash '14797455496207951391356508759149962584765968173479481191220882411966396840571' --publickey ./keys/out_public.json --mse 12888 --path ./ipfs_dataset\n",
    "```"
   ]
  },
  {
   "cell_type": "code",
   "execution_count": 6,
   "id": "88fb5cb3",
   "metadata": {},
   "outputs": [
    {
     "name": "stdout",
     "output_type": "stream",
     "text": [
      "Downloading from IPFS to ./ipfs_dataset ...\r\n"
     ]
    }
   ],
   "source": [
    "zkml download_dataset --hash '14797455496207951391356508759149962584765968173479481191220882411966396840571' --publickey ./keys/out_public.json --mse 12888 --path ./ipfs_dataset"
   ]
  },
  {
   "cell_type": "code",
   "execution_count": 7,
   "id": "c26f44d4",
   "metadata": {},
   "outputs": [
    {
     "name": "stdout",
     "output_type": "stream",
     "text": [
      "X.npy Y.npy\r\n"
     ]
    }
   ],
   "source": [
    "!ls ./ipfs_dataset"
   ]
  },
  {
   "cell_type": "code",
   "execution_count": 68,
   "id": "49186dc2",
   "metadata": {},
   "outputs": [],
   "source": [
    "import numpy as np\n",
    "import pandas as pd\n",
    "from sklearn.metrics import mean_squared_error\n",
    "from sklearn.linear_model import LinearRegression\n",
    "from sklearn.preprocessing import StandardScaler"
   ]
  },
  {
   "cell_type": "code",
   "execution_count": 117,
   "id": "c05394f1",
   "metadata": {},
   "outputs": [],
   "source": [
    "X = np.load('./dataset/X_first.npy')\n",
    "Y = np.load('./dataset/Y_first.npy')"
   ]
  },
  {
   "cell_type": "code",
   "execution_count": 118,
   "id": "ac3e7fa2",
   "metadata": {},
   "outputs": [
    {
     "data": {
      "text/plain": [
       "((6955, 1), (6955, 67))"
      ]
     },
     "execution_count": 118,
     "metadata": {},
     "output_type": "execute_result"
    }
   ],
   "source": [
    "Y.shape, X.shape"
   ]
  },
  {
   "cell_type": "code",
   "execution_count": 129,
   "id": "db1370a1",
   "metadata": {
    "scrolled": true
   },
   "outputs": [
    {
     "name": "stdout",
     "output_type": "stream",
     "text": [
      "Mean Squared Error: 0.19852095774279208\n"
     ]
    }
   ],
   "source": [
    "# Instantiating LinearRegression() Model\n",
    "scaler = StandardScaler()\n",
    "\n",
    "X = scaler.fit_transform(X)\n",
    "X = X[0:20, 0:4]\n",
    "Y = Y[0:20]\n",
    "\n",
    "lr = LinearRegression()\n",
    "\n",
    "# Training/Fitting the Model\n",
    "lr.fit(X, Y)\n",
    "\n",
    "# Making Predictions\n",
    "pred = lr.predict(X)\n",
    "\n",
    "# Evaluating Model's Performance\n",
    "print('Mean Squared Error:', mean_squared_error(Y, pred))\n",
    "\n",
    "mse = mean_squared_error(Y, pred)"
   ]
  },
  {
   "cell_type": "code",
   "execution_count": 130,
   "id": "c557151e",
   "metadata": {},
   "outputs": [],
   "source": [
    "W = lr.coef_.reshape(-1, 1)\n",
    "b = lr.intercept_.reshape(-1, 1)\n",
    "Yt_expected = Y.reshape(-1, 1)\n",
    "\n",
    "np.save('model/W.npy',W)\n",
    "np.save('model/b.npy',b)\n",
    "np.save('dataset/X.npy',X)\n",
    "np.save('dataset/Y.npy',Yt_expected)"
   ]
  },
  {
   "cell_type": "code",
   "execution_count": 131,
   "id": "e1e17312",
   "metadata": {},
   "outputs": [
    {
     "name": "stdout",
     "output_type": "stream",
     "text": [
      "[[-8.94693752]\n",
      " [ 8.82111425]\n",
      " [ 0.03092156]\n",
      " [ 0.25509201]]\n"
     ]
    }
   ],
   "source": [
    "print(W)"
   ]
  },
  {
   "cell_type": "code",
   "execution_count": 132,
   "id": "25ed3ed8",
   "metadata": {},
   "outputs": [
    {
     "name": "stdout",
     "output_type": "stream",
     "text": [
      "[[0.6]]\n"
     ]
    }
   ],
   "source": [
    "print(b)"
   ]
  },
  {
   "cell_type": "code",
   "execution_count": 133,
   "id": "051e409a",
   "metadata": {},
   "outputs": [
    {
     "name": "stdout",
     "output_type": "stream",
     "text": [
      "143.19081226152846\n"
     ]
    }
   ],
   "source": [
    "shuffle = lambda x: np.random.shuffle(x)\n",
    "shuffle(W)\n",
    "shuffle(b)\n",
    "print(mean_squared_error(Y, np.matmul(X, W.reshape(-1)) + b.reshape(-1)))\n",
    "\n",
    "np.save('model_shuffled/W.npy',W)\n",
    "np.save('model_shuffled/b.npy',b)"
   ]
  },
  {
   "cell_type": "code",
   "execution_count": 143,
   "id": "c701563a",
   "metadata": {},
   "outputs": [],
   "source": [
    "from scripts import *\n",
    "from copy import deepcopy\n",
    "import json\n",
    "\n",
    "data = dict(\n",
    "    alpha_X = 0,\n",
    "    beta_X = 8,\n",
    "\n",
    "    alpha_W = -1,\n",
    "    beta_W = 8,\n",
    "\n",
    "    alpha_Y = 0,\n",
    "    beta_Y = 8,\n",
    "\n",
    "    alpha_Yt = 0,\n",
    "    beta_Yt = 8,\n",
    "\n",
    "    alpha_b = 0,\n",
    "    beta_b = 8,\n",
    "\n",
    "    alpha_R = -1,\n",
    "    beta_R = 1,\n",
    "\n",
    "    alpha_S = 0,\n",
    "    beta_S = 10,\n",
    "\n",
    "    m = 20,\n",
    "    p = 4,\n",
    "    n = 1,\n",
    "    \n",
    "    mse_target = 50\n",
    ")\n",
    "\n",
    "json.dump(data, open('./settings.json', 'w'), indent = 2)"
   ]
  },
  {
   "cell_type": "markdown",
   "id": "eb10a39a",
   "metadata": {},
   "source": [
    "Command:\n",
    "\n",
    "```\n",
    "zkml claim_bounty --payment 0x2546BcD3c84621e976D8185a91A922aE77ECEc30 --model ./model_shuffled --dataset ./dataset --publickey ./keys/out_public.json --settings ./settings.json\n",
    "```"
   ]
  },
  {
   "cell_type": "code",
   "execution_count": 144,
   "id": "02d90771",
   "metadata": {},
   "outputs": [
    {
     "name": "stdout",
     "output_type": "stream",
     "text": [
      "Mean Squared Error actual:  143.19081226152846\n",
      "... quantized  65536\n",
      "Mean Squared Error simulated:  56.018128547884998625\n",
      "... quantized  65536\n",
      "Circuit Outputs:\n",
      "367102\n",
      "Proof took 17.514 s\n",
      "ERROR: Invalid proof\n",
      "\u001b[31mAn unexpected error occurred:\u001b[39m\n",
      "\n",
      "Error: Could not verify the proof\n",
      "    at SimpleTaskDefinition.action (/home/bowen/Desktop/workspace/demo/eth/hardhat.config.js:273:26)\n",
      "    at Environment._runTaskDefinition (/home/bowen/Desktop/workspace/demo/eth/node_modules/\u001b[4mhardhat\u001b[24m/src/internal/core/runtime-environment.ts:217:14)\n",
      "    at Environment.run (/home/bowen/Desktop/workspace/demo/eth/node_modules/\u001b[4mhardhat\u001b[24m/src/internal/core/runtime-environment.ts:129:14)\n",
      "    at main (/home/bowen/Desktop/workspace/demo/eth/node_modules/\u001b[4mhardhat\u001b[24m/src/internal/cli/cli.ts:197:5)\n"
     ]
    }
   ],
   "source": [
    "zkml claim_bounty --payment 0xDD63369Cd353f731De50cd2d5F6594Dd7B1083bA --model ./model_shuffled --dataset ./dataset --publickey ./keys/out_public.json --settings ./settings.json"
   ]
  },
  {
   "cell_type": "markdown",
   "id": "724d3438",
   "metadata": {},
   "source": [
    "Command:\n",
    "\n",
    "```\n",
    "zkml claim_bounty --payment 0x2546BcD3c84621e976D8185a91A922aE77ECEc30 --model ./model  --dataset ./dataset  --publickey ./keys/out_public.json --settings ./settings.json\n",
    "```"
   ]
  },
  {
   "cell_type": "code",
   "execution_count": 145,
   "id": "f1477fd6",
   "metadata": {},
   "outputs": [
    {
     "name": "stdout",
     "output_type": "stream",
     "text": [
      "Mean Squared Error actual:  0.19852095774279208\n",
      "... quantized  1305\n",
      "Mean Squared Error simulated:  48.60190441311114995\n",
      "... quantized  65536\n",
      "Circuit Outputs:\n",
      "318502\n",
      "Proof took 20.227 s\n",
      "ERROR: Invalid proof\n",
      "\u001b[31mAn unexpected error occurred:\u001b[39m\n",
      "\n",
      "Error: Could not verify the proof\n",
      "    at SimpleTaskDefinition.action (/home/bowen/Desktop/workspace/demo/eth/hardhat.config.js:273:26)\n",
      "    at Environment._runTaskDefinition (/home/bowen/Desktop/workspace/demo/eth/node_modules/\u001b[4mhardhat\u001b[24m/src/internal/core/runtime-environment.ts:217:14)\n",
      "    at Environment.run (/home/bowen/Desktop/workspace/demo/eth/node_modules/\u001b[4mhardhat\u001b[24m/src/internal/core/runtime-environment.ts:129:14)\n",
      "    at main (/home/bowen/Desktop/workspace/demo/eth/node_modules/\u001b[4mhardhat\u001b[24m/src/internal/cli/cli.ts:197:5)\n"
     ]
    }
   ],
   "source": [
    "zkml claim_bounty --payment 0xDD63369Cd353f731De50cd2d5F6594Dd7B1083bA --model ./model  --dataset ./dataset  --publickey ./keys/out_public.json --settings ./settings.json"
   ]
  },
  {
   "cell_type": "code",
   "execution_count": 17,
   "id": "e425fa00",
   "metadata": {},
   "outputs": [
    {
     "name": "stdout",
     "output_type": "stream",
     "text": [
      "Available bounties on dataset: 14797455496207951391356508759149962584765968173479481191220882411966396840571\n",
      "[\n",
      "  {\n",
      "    PubKey1: \u001b[32m'4335450774744029667338374268876724953162212166350367311071783936960844219437'\u001b[39m,\n",
      "    PubKey2: \u001b[32m'12294985779291632745949915528747628813970908319399977746384186218556045373103'\u001b[39m,\n",
      "    MSEcap: \u001b[32m'12888'\u001b[39m,\n",
      "    Bounty: \u001b[32m'5.0'\u001b[39m,\n",
      "    Issuer: \u001b[32m'0xd3162F2B88d05C882a1B26031E144753337ACDBF'\u001b[39m,\n",
      "    IPFS: \u001b[32m'QmWLRJVL5uViT7h64bdeUM3GKMWP9DSWRggGC8igDuQdHR'\u001b[39m\n",
      "  }\n",
      "]\n"
     ]
    }
   ],
   "source": [
    "zkml list_bounties --hash 14797455496207951391356508759149962584765968173479481191220882411966396840571"
   ]
  },
  {
   "cell_type": "code",
   "execution_count": 18,
   "id": "80df2810",
   "metadata": {},
   "outputs": [
    {
     "name": "stdout",
     "output_type": "stream",
     "text": [
      "Available datasets:\r\n",
      "[]\r\n"
     ]
    }
   ],
   "source": [
    "zkml list_datasets"
   ]
  },
  {
   "cell_type": "code",
   "execution_count": null,
   "id": "81932f9d",
   "metadata": {},
   "outputs": [],
   "source": []
  }
 ],
 "metadata": {
  "kernelspec": {
   "display_name": "Python 3 (ipykernel)",
   "language": "python",
   "name": "python3"
  },
  "language_info": {
   "codemirror_mode": {
    "name": "ipython",
    "version": 3
   },
   "file_extension": ".py",
   "mimetype": "text/x-python",
   "name": "python",
   "nbconvert_exporter": "python",
   "pygments_lexer": "ipython3",
   "version": "3.9.11"
  }
 },
 "nbformat": 4,
 "nbformat_minor": 5
}
