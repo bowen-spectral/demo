{
 "cells": [
  {
   "cell_type": "code",
   "execution_count": 17,
   "id": "3a9d2810",
   "metadata": {},
   "outputs": [],
   "source": [
    "alias zkml source ~/.nvm/nvm.sh >/dev/null && nvm use 14.0.0 >/dev/null && yarn >/dev/null && ./zkml"
   ]
  },
  {
   "cell_type": "code",
   "execution_count": 18,
   "id": "e3f3ad9b",
   "metadata": {},
   "outputs": [],
   "source": [
    "import numpy as np\n",
    "import pandas as pd\n",
    "from sklearn.metrics import mean_squared_error\n",
    "\n",
    "from sklearn.model_selection import train_test_split\n",
    "from sklearn.linear_model import LinearRegression"
   ]
  },
  {
   "cell_type": "code",
   "execution_count": 19,
   "id": "9c657dbe",
   "metadata": {},
   "outputs": [],
   "source": [
    "from sklearn.datasets import load_iris # Load Iris Data\n",
    "\n",
    "iris = load_iris() # Creating pd DataFrames\n",
    "\n",
    "iris_df = pd.DataFrame(data= iris.data, columns= iris.feature_names)\n",
    "target_df = pd.DataFrame(data= iris.target, columns= ['species'])\n",
    "\n",
    "def converter(specie):\n",
    "    if specie == 0:\n",
    "        return 'setosa'\n",
    "    elif specie == 1:\n",
    "        return 'versicolor'\n",
    "    else:\n",
    "        return 'virginica'\n",
    "\n",
    "target_df['species'] = target_df['species'].apply(converter)# Concatenate the DataFrames\n",
    "iris_df = pd.concat([iris_df, target_df], axis= 1)"
   ]
  },
  {
   "cell_type": "code",
   "execution_count": 4,
   "id": "3c52e8da",
   "metadata": {
    "scrolled": true
   },
   "outputs": [
    {
     "name": "stdout",
     "output_type": "stream",
     "text": [
      "Mean Squared Error: 0.1123029571353145\n"
     ]
    }
   ],
   "source": [
    "# Converting Objects to Numerical dtype\n",
    "iris_df.drop('species', axis= 1, inplace= True)\n",
    "target_df = pd.DataFrame(columns= ['species'], data= iris.target)\n",
    "iris_df = pd.concat([iris_df, target_df], axis= 1)# Variables\n",
    "X= iris_df.drop(labels= 'sepal length (cm)', axis= 1)\n",
    "y= iris_df['sepal length (cm)']\n",
    "\n",
    "# Splitting the Dataset \n",
    "X_train, X_test, y_train, y_test = train_test_split(X, y, test_size= 0.13, random_state= 101)\n",
    "\n",
    "# Instantiating LinearRegression() Model\n",
    "lr = LinearRegression()\n",
    "\n",
    "# Training/Fitting the Model\n",
    "lr.fit(X_train, y_train)\n",
    "\n",
    "# Making Predictions\n",
    "lr.predict(X_test)\n",
    "pred = lr.predict(X_test)\n",
    "\n",
    "# Evaluating Model's Performance\n",
    "print('Mean Squared Error:', mean_squared_error(y_test, pred))\n",
    "\n",
    "mse = mean_squared_error(y_test, pred)"
   ]
  },
  {
   "cell_type": "code",
   "execution_count": 5,
   "id": "1bdd1a65",
   "metadata": {},
   "outputs": [],
   "source": [
    "shuffle = lambda x: np.random.shuffle(x)"
   ]
  },
  {
   "cell_type": "code",
   "execution_count": 6,
   "id": "4a4531e8",
   "metadata": {},
   "outputs": [],
   "source": [
    "W = lr.coef_.reshape(-1, 1)\n",
    "b = lr.intercept_.reshape(-1, 1)\n",
    "X = X_test.values[:]\n",
    "Yt_expected = y_test.values[:].reshape(-1, 1)\n",
    "mse_target = 0.11232375\n",
    "\n",
    "np.save('model/W.npy',W)\n",
    "np.save('model/b.npy',b)\n",
    "np.save('dataset/X.npy',X)\n",
    "np.save('dataset/Y.npy',Yt_expected)"
   ]
  },
  {
   "cell_type": "code",
   "execution_count": 7,
   "id": "b4339f3e",
   "metadata": {},
   "outputs": [
    {
     "name": "stdout",
     "output_type": "stream",
     "text": [
      "23.683279741029036\n"
     ]
    }
   ],
   "source": [
    "shuffle(W)\n",
    "shuffle(b)\n",
    "print(mean_squared_error(y_test, np.matmul(X_test, W.reshape(-1)) + b.reshape(-1)))\n",
    "\n",
    "np.save('model_shuffled/W.npy',W)\n",
    "np.save('model_shuffled/b.npy',b)"
   ]
  },
  {
   "cell_type": "code",
   "execution_count": 8,
   "id": "4b17f96c",
   "metadata": {},
   "outputs": [],
   "source": [
    "Y_expected = np.matmul(X_test, lr.coef_) + lr.intercept_\n",
    "\n",
    "assert (Y_expected == lr.predict(X_test)).all()"
   ]
  },
  {
   "cell_type": "code",
   "execution_count": 9,
   "id": "c913d3d2",
   "metadata": {},
   "outputs": [],
   "source": [
    "from scripts import *\n",
    "from copy import deepcopy\n",
    "import json\n",
    "\n",
    "data = dict(\n",
    "    alpha_X = 0,\n",
    "    beta_X = 8,\n",
    "\n",
    "    alpha_W = -1,\n",
    "    beta_W = 8,\n",
    "\n",
    "    alpha_Y = 0,\n",
    "    beta_Y = 8,\n",
    "\n",
    "    alpha_Yt = 0,\n",
    "    beta_Yt = 8,\n",
    "\n",
    "    alpha_b = 0,\n",
    "    beta_b = 8,\n",
    "\n",
    "    alpha_R = -1,\n",
    "    beta_R = 1,\n",
    "\n",
    "    alpha_S = 0,\n",
    "    beta_S = 0.4,\n",
    "\n",
    "    m = 20,\n",
    "    p = 4,\n",
    "    n = 1,\n",
    "    \n",
    "    mse_target = mse_target\n",
    ")\n",
    "\n",
    "json.dump(data, open('./settings.json', 'w'), indent = 2)"
   ]
  },
  {
   "cell_type": "code",
   "execution_count": 10,
   "id": "c046478f",
   "metadata": {},
   "outputs": [
    {
     "name": "stdout",
     "output_type": "stream",
     "text": [
      "Hashed inputs: \n",
      "\u001b[33m14797455496207951391356508759149962584765968173479481191220882411966396840571n\u001b[39m\n",
      "Your Public Key: \n",
      "[\n",
      "  \u001b[33m9174429415397663195474814098829126972861036087483535761611786659177678956471n\u001b[39m,\n",
      "  \u001b[33m17151298006917066591339115003007901615157950557873678103217910551081508056837n\u001b[39m\n",
      "]\n",
      "Your Private Key: \n",
      "\u001b[33m10215367100482065122941512491596723311447051389752159922304632954643465121592n\u001b[39m\n",
      "Current Balance\n",
      "8908.83432339\n"
     ]
    }
   ],
   "source": [
    "zkml add_bounty --amount 11.1 --keyfile ./out --walletprivatekey ./keys/.private_key --dataset ./dataset --settings ./settings.json"
   ]
  },
  {
   "cell_type": "code",
   "execution_count": 11,
   "id": "2dc7b9b3",
   "metadata": {},
   "outputs": [
    {
     "name": "stdout",
     "output_type": "stream",
     "text": [
      "Available bounties on dataset: dataset\r\n",
      "[\r\n",
      "  {\r\n",
      "    \u001b[32m'publickey-1'\u001b[39m: \u001b[32m'18555908592622126050707896991377312990843472280274634534374931680536345054526'\u001b[39m,\r\n",
      "    \u001b[32m'publickey-2'\u001b[39m: \u001b[32m'7350883897322528676697913783704801681171706373461200581543468238983722422887'\u001b[39m,\r\n",
      "    \u001b[32m'MSE-Cap'\u001b[39m: \u001b[32m'18406'\u001b[39m\r\n",
      "  },\r\n",
      "  {\r\n",
      "    \u001b[32m'publickey-1'\u001b[39m: \u001b[32m'8752711291402489186957709630173757961253711899136411644001231929199080389342'\u001b[39m,\r\n",
      "    \u001b[32m'publickey-2'\u001b[39m: \u001b[32m'11219008190556565870345010120045210758148630783170973018251518358354663684931'\u001b[39m,\r\n",
      "    \u001b[32m'MSE-Cap'\u001b[39m: \u001b[32m'18406'\u001b[39m\r\n",
      "  },\r\n",
      "  {\r\n",
      "    \u001b[32m'publickey-1'\u001b[39m: \u001b[32m'9174429415397663195474814098829126972861036087483535761611786659177678956471'\u001b[39m,\r\n",
      "    \u001b[32m'publickey-2'\u001b[39m: \u001b[32m'17151298006917066591339115003007901615157950557873678103217910551081508056837'\u001b[39m,\r\n",
      "    \u001b[32m'MSE-Cap'\u001b[39m: \u001b[32m'18406'\u001b[39m\r\n",
      "  }\r\n",
      "]\r\n"
     ]
    }
   ],
   "source": [
    "zkml list_bounties --hash 14797455496207951391356508759149962584765968173479481191220882411966396840571"
   ]
  },
  {
   "cell_type": "code",
   "execution_count": 12,
   "id": "1c256bb5",
   "metadata": {},
   "outputs": [
    {
     "name": "stdout",
     "output_type": "stream",
     "text": [
      "Available datasets:\r\n",
      "[\r\n",
      "  [\r\n",
      "    \u001b[32m'dataset'\u001b[39m,\r\n",
      "    \u001b[32m'14797455496207951391356508759149962584765968173479481191220882411966396840571'\u001b[39m\r\n",
      "  ]\r\n",
      "]\r\n"
     ]
    }
   ],
   "source": [
    "zkml list_datasets"
   ]
  },
  {
   "cell_type": "code",
   "execution_count": 13,
   "id": "ab96d976",
   "metadata": {},
   "outputs": [
    {
     "name": "stdout",
     "output_type": "stream",
     "text": [
      "Mean Squared Error actual:  23.683279741029036\n",
      "... quantized  65536\n",
      "Mean Squared Error simulated:  23.68532014893487414\n",
      "... quantized  65536\n",
      "Circuit Outputs:\n",
      "3880370\n",
      "Proof took 18.778 s\n",
      "ERROR: Invalid proof\n",
      "\u001b[31mAn unexpected error occurred:\u001b[39m\n",
      "\n",
      "Error: Could not verify the proof\n",
      "    at SimpleTaskDefinition.action (/Users/liaopeiyuan/Documents/GitHub/zkml-core/eth/hardhat.config.js:246:26)\n",
      "    at Environment._runTaskDefinition (/Users/liaopeiyuan/Documents/GitHub/zkml-core/eth/node_modules/\u001b[4mhardhat\u001b[24m/src/internal/core/runtime-environment.ts:217:14)\n",
      "    at Environment.run (/Users/liaopeiyuan/Documents/GitHub/zkml-core/eth/node_modules/\u001b[4mhardhat\u001b[24m/src/internal/core/runtime-environment.ts:129:14)\n",
      "    at main (/Users/liaopeiyuan/Documents/GitHub/zkml-core/eth/node_modules/\u001b[4mhardhat\u001b[24m/src/internal/cli/cli.ts:197:5)\n"
     ]
    }
   ],
   "source": [
    "zkml claim_bounty --payment 0x2546BcD3c84621e976D8185a91A922aE77ECEc30 --model ./model_shuffled --dataset ./dataset --publickey ./keys/out_public.json --settings ./settings.json"
   ]
  },
  {
   "cell_type": "code",
   "execution_count": 14,
   "id": "a7d8588d",
   "metadata": {},
   "outputs": [
    {
     "name": "stdout",
     "output_type": "stream",
     "text": [
      "Mean Squared Error actual:  0.11230295713531464\n",
      "... quantized  18403\n",
      "Mean Squared Error simulated:  0.11232375022889581895\n",
      "... quantized  18406\n",
      "Circuit Outputs:\n",
      "18406\n",
      "Proof took 19.13 s\n",
      "INFO: OK!\n",
      "Paying 0x2546BcD3c84621e976D8185a91A922aE77ECEc30\n",
      "With balance\n",
      "10545.5\n",
      "Your Public Key: \n",
      "[\n",
      "  \u001b[33m14459953525389731050128232634965716786998626309536895493710479841337536036108n\u001b[39m,\n",
      "  \u001b[33m3139379414526563177173764827826080699891140986661326359616935618937943827620n\u001b[39m\n",
      "]\n",
      "Your Private Key: \n",
      "\u001b[33m12146208272172875595379441099866055831929461973057183223606974435160770385894n\u001b[39m\n",
      "Current Balance\n",
      "10556.6\n"
     ]
    }
   ],
   "source": [
    "zkml claim_bounty --payment 0x2546BcD3c84621e976D8185a91A922aE77ECEc30 --model ./model  --dataset ./dataset  --publickey ./keys/out_public.json --settings ./settings.json"
   ]
  },
  {
   "cell_type": "code",
   "execution_count": 15,
   "id": "7b23199f",
   "metadata": {},
   "outputs": [
    {
     "name": "stdout",
     "output_type": "stream",
     "text": [
      "Available bounties on dataset: dataset\r\n",
      "[\r\n",
      "  {\r\n",
      "    \u001b[32m'publickey-1'\u001b[39m: \u001b[32m'18555908592622126050707896991377312990843472280274634534374931680536345054526'\u001b[39m,\r\n",
      "    \u001b[32m'publickey-2'\u001b[39m: \u001b[32m'7350883897322528676697913783704801681171706373461200581543468238983722422887'\u001b[39m,\r\n",
      "    \u001b[32m'MSE-Cap'\u001b[39m: \u001b[32m'18406'\u001b[39m\r\n",
      "  },\r\n",
      "  {\r\n",
      "    \u001b[32m'publickey-1'\u001b[39m: \u001b[32m'8752711291402489186957709630173757961253711899136411644001231929199080389342'\u001b[39m,\r\n",
      "    \u001b[32m'publickey-2'\u001b[39m: \u001b[32m'11219008190556565870345010120045210758148630783170973018251518358354663684931'\u001b[39m,\r\n",
      "    \u001b[32m'MSE-Cap'\u001b[39m: \u001b[32m'18406'\u001b[39m\r\n",
      "  }\r\n",
      "]\r\n"
     ]
    }
   ],
   "source": [
    "zkml list_bounties --hash 14797455496207951391356508759149962584765968173479481191220882411966396840571"
   ]
  },
  {
   "cell_type": "code",
   "execution_count": 16,
   "id": "ddabee6d",
   "metadata": {},
   "outputs": [
    {
     "name": "stdout",
     "output_type": "stream",
     "text": [
      "Available datasets:\r\n",
      "[\r\n",
      "  [\r\n",
      "    \u001b[32m'dataset'\u001b[39m,\r\n",
      "    \u001b[32m'14797455496207951391356508759149962584765968173479481191220882411966396840571'\u001b[39m\r\n",
      "  ]\r\n",
      "]\r\n"
     ]
    }
   ],
   "source": [
    "zkml list_datasets"
   ]
  },
  {
   "cell_type": "code",
   "execution_count": null,
   "id": "854b7343",
   "metadata": {},
   "outputs": [],
   "source": []
  }
 ],
 "metadata": {
  "kernelspec": {
   "display_name": "Python 3",
   "language": "python",
   "name": "python3"
  },
  "language_info": {
   "codemirror_mode": {
    "name": "ipython",
    "version": 3
   },
   "file_extension": ".py",
   "mimetype": "text/x-python",
   "name": "python",
   "nbconvert_exporter": "python",
   "pygments_lexer": "ipython3",
   "version": "3.8.8"
  }
 },
 "nbformat": 4,
 "nbformat_minor": 5
}
