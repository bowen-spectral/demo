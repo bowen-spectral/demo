{
 "cells": [
  {
   "cell_type": "code",
   "execution_count": 52,
   "id": "e798537c",
   "metadata": {},
   "outputs": [],
   "source": [
    "alias zkml source ~/.nvm/nvm.sh >/dev/null && nvm use 14.0.0 >/dev/null && yarn >/dev/null && ./zkml"
   ]
  },
  {
   "cell_type": "code",
   "execution_count": 53,
   "id": "250368b6",
   "metadata": {},
   "outputs": [],
   "source": [
    "alias prepare source ~/.nvm/nvm.sh >/dev/null && nvm use 14.0.0 >/dev/null && yarn >/dev/null && yarn prepare-demo > /dev/null"
   ]
  },
  {
   "cell_type": "code",
   "execution_count": 38,
   "id": "e8725e26",
   "metadata": {},
   "outputs": [],
   "source": [
    "prepare"
   ]
  },
  {
   "cell_type": "code",
   "execution_count": 71,
   "id": "010e9bcb",
   "metadata": {},
   "outputs": [
    {
     "name": "stdout",
     "output_type": "stream",
     "text": [
      "Available datasets:\r\n",
      "[\r\n",
      "  \u001b[32m'14797455496207951391356508759149962584765968173479481191220882411966396840571'\u001b[39m\r\n",
      "]\r\n"
     ]
    }
   ],
   "source": [
    "zkml list_datasets"
   ]
  },
  {
   "cell_type": "code",
   "execution_count": 72,
   "id": "f031ccdb",
   "metadata": {},
   "outputs": [
    {
     "name": "stdout",
     "output_type": "stream",
     "text": [
      "Available bounties on dataset: 14797455496207951391356508759149962584765968173479481191220882411966396840571\r\n",
      "[\r\n",
      "  {\r\n",
      "    PubKey1: \u001b[32m'8385930133524036559273104048419821016491875134467519785353152799140128167921'\u001b[39m,\r\n",
      "    PubKey2: \u001b[32m'17155255312018438018746349179262607517493307326242830912102091150670145263900'\u001b[39m,\r\n",
      "    MSEcap: \u001b[32m'12888'\u001b[39m,\r\n",
      "    Bounty: \u001b[32m'49.0'\u001b[39m,\r\n",
      "    Issuer: \u001b[32m'0x1CBd3b2770909D4e10f157cABC84C7264073C9Ec'\u001b[39m,\r\n",
      "    IPFS: \u001b[32m'QmWLRJVL5uViT7h64bdeUM3GKMWP9DSWRggGC8igDuQdHR'\u001b[39m\r\n",
      "  }\r\n",
      "]\r\n"
     ]
    }
   ],
   "source": [
    "zkml list_bounties --hash '14797455496207951391356508759149962584765968173479481191220882411966396840571'"
   ]
  },
  {
   "cell_type": "markdown",
   "id": "43548867",
   "metadata": {},
   "source": [
    "Command:\n",
    "\n",
    "```\n",
    "zkml download_dataset --hash '14797455496207951391356508759149962584765968173479481191220882411966396840571' --publickey ./keys/out_public.json --walletprivatekey ./keys/.private_key --mse 18406 --path ./ipfs_dataset\n",
    "```"
   ]
  },
  {
   "cell_type": "code",
   "execution_count": 73,
   "id": "3c714321",
   "metadata": {},
   "outputs": [
    {
     "name": "stdout",
     "output_type": "stream",
     "text": [
      "Downloading from IPFS to ./ipfs_dataset ...\r\n"
     ]
    }
   ],
   "source": [
    "zkml download_dataset --hash '14797455496207951391356508759149962584765968173479481191220882411966396840571' --publickey ./keys/out_public.json --walletprivatekey ./keys/.private_key --mse 12888 --path ./ipfs_dataset"
   ]
  },
  {
   "cell_type": "code",
   "execution_count": 74,
   "id": "45c6c4d2",
   "metadata": {},
   "outputs": [
    {
     "name": "stdout",
     "output_type": "stream",
     "text": [
      "X.npy Y.npy\r\n"
     ]
    }
   ],
   "source": [
    "!ls ./ipfs_dataset"
   ]
  },
  {
   "cell_type": "code",
   "execution_count": 75,
   "id": "357ec3f3",
   "metadata": {},
   "outputs": [],
   "source": [
    "import numpy as np\n",
    "import pandas as pd\n",
    "from sklearn.metrics import mean_squared_error\n",
    "\n",
    "from sklearn.linear_model import LinearRegression"
   ]
  },
  {
   "cell_type": "code",
   "execution_count": 76,
   "id": "7416c7ba",
   "metadata": {},
   "outputs": [],
   "source": [
    "X = np.load('./ipfs_dataset/X.npy')\n",
    "Y = np.load('./ipfs_dataset/Y.npy')"
   ]
  },
  {
   "cell_type": "code",
   "execution_count": 77,
   "id": "b5cb3f00",
   "metadata": {},
   "outputs": [
    {
     "data": {
      "text/plain": [
       "((20, 1), (20, 4))"
      ]
     },
     "execution_count": 77,
     "metadata": {},
     "output_type": "execute_result"
    }
   ],
   "source": [
    "Y.shape, X.shape"
   ]
  },
  {
   "cell_type": "code",
   "execution_count": 78,
   "id": "20aa8eed",
   "metadata": {
    "scrolled": true
   },
   "outputs": [
    {
     "name": "stdout",
     "output_type": "stream",
     "text": [
      "Mean Squared Error: 0.07865899873764468\n"
     ]
    }
   ],
   "source": [
    "# Instantiating LinearRegression() Model\n",
    "lr = LinearRegression()\n",
    "\n",
    "# Training/Fitting the Model\n",
    "lr.fit(X, Y)\n",
    "\n",
    "# Making Predictions\n",
    "pred = lr.predict(X)\n",
    "\n",
    "# Evaluating Model's Performance\n",
    "print('Mean Squared Error:', mean_squared_error(y_test, pred))\n",
    "\n",
    "mse = mean_squared_error(y_test, pred)"
   ]
  },
  {
   "cell_type": "code",
   "execution_count": 79,
   "id": "e0703a4a",
   "metadata": {},
   "outputs": [],
   "source": [
    "W = lr.coef_.reshape(-1, 1)\n",
    "b = lr.intercept_.reshape(-1, 1)\n",
    "X = X_test.values[:]\n",
    "Yt_expected = y_test.values[:].reshape(-1, 1)\n",
    "\n",
    "np.save('model/W.npy',W)\n",
    "np.save('model/b.npy',b)\n",
    "np.save('dataset/X.npy',X)\n",
    "np.save('dataset/Y.npy',Yt_expected)"
   ]
  },
  {
   "cell_type": "code",
   "execution_count": 80,
   "id": "d9e6a1b1",
   "metadata": {},
   "outputs": [
    {
     "name": "stdout",
     "output_type": "stream",
     "text": [
      "0.07941453957968247\n"
     ]
    }
   ],
   "source": [
    "shuffle = lambda x: np.random.shuffle(x)\n",
    "shuffle(W)\n",
    "shuffle(b)\n",
    "print(mean_squared_error(y_test, np.matmul(X_test, W.reshape(-1)) + b.reshape(-1)))\n",
    "\n",
    "np.save('model_shuffled/W.npy',W)\n",
    "np.save('model_shuffled/b.npy',b)"
   ]
  },
  {
   "cell_type": "code",
   "execution_count": 81,
   "id": "3dfa7523",
   "metadata": {},
   "outputs": [],
   "source": [
    "from scripts import *\n",
    "from copy import deepcopy\n",
    "import json\n",
    "\n",
    "data = dict(\n",
    "    alpha_X = 0,\n",
    "    beta_X = 8,\n",
    "\n",
    "    alpha_W = -1,\n",
    "    beta_W = 8,\n",
    "\n",
    "    alpha_Y = 0,\n",
    "    beta_Y = 8,\n",
    "\n",
    "    alpha_Yt = 0,\n",
    "    beta_Yt = 8,\n",
    "\n",
    "    alpha_b = 0,\n",
    "    beta_b = 8,\n",
    "\n",
    "    alpha_R = -1,\n",
    "    beta_R = 1,\n",
    "\n",
    "    alpha_S = 0,\n",
    "    beta_S = 0.4,\n",
    "\n",
    "    m = 20,\n",
    "    p = 4,\n",
    "    n = 1,\n",
    "    \n",
    "    mse_target = 0.07864\n",
    ")\n",
    "\n",
    "json.dump(data, open('./settings.json', 'w'), indent = 2)"
   ]
  },
  {
   "cell_type": "markdown",
   "id": "e799c5bb",
   "metadata": {},
   "source": [
    "Command:\n",
    "\n",
    "```\n",
    "zkml claim_bounty --payment 0x2546BcD3c84621e976D8185a91A922aE77ECEc30 --model ./model_shuffled --dataset ./dataset --publickey ./keys/out_public.json --settings ./settings.json\n",
    "```"
   ]
  },
  {
   "cell_type": "code",
   "execution_count": 82,
   "id": "e3c9457d",
   "metadata": {},
   "outputs": [
    {
     "name": "stdout",
     "output_type": "stream",
     "text": [
      "Mean Squared Error actual:  0.07941453957968254\n",
      "... quantized  13014\n",
      "Mean Squared Error simulated:  0.07939327351522920684\n",
      "... quantized  13011\n",
      "Circuit Outputs:\n",
      "13011\n",
      "Proof took 17.02 s\n",
      "ERROR: Invalid proof\n",
      "\u001b[31mAn unexpected error occurred:\u001b[39m\n",
      "\n",
      "Error: Could not verify the proof\n",
      "    at SimpleTaskDefinition.action (/Users/liaopeiyuan/Documents/GitHub/zkml-core/eth/hardhat.config.js:281:26)\n",
      "    at Environment._runTaskDefinition (/Users/liaopeiyuan/Documents/GitHub/zkml-core/eth/node_modules/\u001b[4mhardhat\u001b[24m/src/internal/core/runtime-environment.ts:217:14)\n",
      "    at Environment.run (/Users/liaopeiyuan/Documents/GitHub/zkml-core/eth/node_modules/\u001b[4mhardhat\u001b[24m/src/internal/core/runtime-environment.ts:129:14)\n",
      "    at main (/Users/liaopeiyuan/Documents/GitHub/zkml-core/eth/node_modules/\u001b[4mhardhat\u001b[24m/src/internal/cli/cli.ts:197:5)\n"
     ]
    }
   ],
   "source": [
    "zkml claim_bounty --payment 0x2546BcD3c84621e976D8185a91A922aE77ECEc30 --model ./model_shuffled --dataset ./dataset --publickey ./keys/out_public.json --settings ./settings.json"
   ]
  },
  {
   "cell_type": "markdown",
   "id": "53ba4c5b",
   "metadata": {},
   "source": [
    "Command:\n",
    "\n",
    "```\n",
    "zkml claim_bounty --payment 0x2546BcD3c84621e976D8185a91A922aE77ECEc30 --model ./model  --dataset ./dataset  --publickey ./keys/out_public.json --settings ./settings.json\n",
    "```"
   ]
  },
  {
   "cell_type": "code",
   "execution_count": 83,
   "id": "f336bf75",
   "metadata": {},
   "outputs": [
    {
     "name": "stdout",
     "output_type": "stream",
     "text": [
      "Mean Squared Error actual:  0.0786589987376446\n",
      "... quantized  12891\n",
      "Mean Squared Error simulated:  0.07864249526948667579\n",
      "... quantized  12888\n",
      "Circuit Outputs:\n",
      "12888\n",
      "Proof took 17.131 s\n",
      "INFO: OK!\n",
      "Paying 0x2546BcD3c84621e976D8185a91A922aE77ECEc30\n",
      "With balance\n",
      "10850.6\n",
      "Your Public Key: \n",
      "[\n",
      "  \u001b[33m1700643759997457569245863490312877944508569018329107232774239121212875587628n\u001b[39m,\n",
      "  \u001b[33m12432032059012451124939976221853806268790884588923275757468717217243035579610n\u001b[39m\n",
      "]\n",
      "Your Private Key: \n",
      "\u001b[33m16643980665868843823629143933455494516978640287615526294342242121812095812996n\u001b[39m\n",
      "Current Balance\n",
      "10899.6\n"
     ]
    }
   ],
   "source": [
    "zkml claim_bounty --payment 0x2546BcD3c84621e976D8185a91A922aE77ECEc30 --model ./model  --dataset ./dataset  --publickey ./keys/out_public.json --settings ./settings.json"
   ]
  },
  {
   "cell_type": "code",
   "execution_count": 84,
   "id": "e3378ec5",
   "metadata": {},
   "outputs": [
    {
     "name": "stdout",
     "output_type": "stream",
     "text": [
      "Available bounties on dataset: 14797455496207951391356508759149962584765968173479481191220882411966396840571\n",
      "[]\n"
     ]
    }
   ],
   "source": [
    "zkml list_bounties --hash 14797455496207951391356508759149962584765968173479481191220882411966396840571"
   ]
  },
  {
   "cell_type": "code",
   "execution_count": 85,
   "id": "cbc40c5d",
   "metadata": {},
   "outputs": [
    {
     "name": "stdout",
     "output_type": "stream",
     "text": [
      "Available datasets:\r\n",
      "[]\r\n"
     ]
    }
   ],
   "source": [
    "zkml list_datasets"
   ]
  }
 ],
 "metadata": {
  "kernelspec": {
   "display_name": "Python 3",
   "language": "python",
   "name": "python3"
  },
  "language_info": {
   "codemirror_mode": {
    "name": "ipython",
    "version": 3
   },
   "file_extension": ".py",
   "mimetype": "text/x-python",
   "name": "python",
   "nbconvert_exporter": "python",
   "pygments_lexer": "ipython3",
   "version": "3.8.8"
  }
 },
 "nbformat": 4,
 "nbformat_minor": 5
}
