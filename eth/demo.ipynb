{
 "cells": [
  {
   "cell_type": "code",
   "execution_count": 4,
   "id": "37180f6f",
   "metadata": {},
   "outputs": [],
   "source": [
    "alias zkml source ~/.nvm/nvm.sh >/dev/null && nvm use 14.0.0 >/dev/null && yarn >/dev/null && ./zkml"
   ]
  },
  {
   "cell_type": "code",
   "execution_count": 10,
   "id": "5a30f576",
   "metadata": {},
   "outputs": [
    {
     "name": "stdout",
     "output_type": "stream",
     "text": [
      "Available datasets:\n",
      "[\n",
      "  [\n",
      "    \u001b[32m'dataset'\u001b[39m,\n",
      "    \u001b[32m'14797455496207951391356508759149962584765968173479481191220882411966396840571'\u001b[39m\n",
      "  ],\n",
      "  [\n",
      "    \u001b[32m'dataset'\u001b[39m,\n",
      "    \u001b[32m'14797455496207951391356508759149962584765968173479481191220882411966396840571'\u001b[39m\n",
      "  ]\n",
      "]\n"
     ]
    }
   ],
   "source": [
    "zkml list_datasets"
   ]
  },
  {
   "cell_type": "code",
   "execution_count": 14,
   "id": "0e561178",
   "metadata": {},
   "outputs": [
    {
     "name": "stdout",
     "output_type": "stream",
     "text": [
      "\u001b[31mError HH305: Unrecognized param --dataset_hash\u001b[39m\r\n",
      "\r\n",
      "For more info go to https://hardhat.org/HH305 or run Hardhat with --show-stack-traces\r\n"
     ]
    }
   ],
   "source": []
  },
  {
   "cell_type": "code",
   "execution_count": null,
   "id": "ee2a49e4",
   "metadata": {},
   "outputs": [],
   "source": [
    "zkml "
   ]
  },
  {
   "cell_type": "code",
   "execution_count": 7,
   "id": "9fdbaf18",
   "metadata": {},
   "outputs": [
    {
     "name": "stdout",
     "output_type": "stream",
     "text": [
      "Hashed inputs: \n",
      "\u001b[33m14797455496207951391356508759149962584765968173479481191220882411966396840571n\u001b[39m\n",
      "Your Public Key: \n",
      "[\n",
      "  \u001b[33m20309760273953462500460369289927875375249161946486270897491509466557239169362n\u001b[39m,\n",
      "  \u001b[33m4525867885453937990771346103622727204887718697147799398393210539764294025357n\u001b[39m\n",
      "]\n",
      "Your Private Key: \n",
      "\u001b[33m6355843196048741294034033711733592807513788875688648108428086728521504690935n\u001b[39m\n",
      "Current Balance\n",
      "9509.978692845\n"
     ]
    }
   ],
   "source": [
    "zkml add_bounty"
   ]
  },
  {
   "cell_type": "code",
   "execution_count": 8,
   "id": "90bdac0e",
   "metadata": {},
   "outputs": [
    {
     "name": "stdout",
     "output_type": "stream",
     "text": [
      "Mean Squared Error actual:  0.11230295713531464\n",
      "... quantized  18403\n",
      "Mean Squared Error simulated:  0.11232375022889581895\n",
      "... quantized  18406\n",
      "Running Circuit ...\n",
      "18406\n",
      "Proof took 17.986 s\n",
      "INFO: OK!\n",
      "Paying 0x2546BcD3c84621e976D8185a91A922aE77ECEc30\n",
      "With balance\n",
      "10245.0\n",
      "Your Public Key: \n",
      "[\n",
      "  \u001b[33m15125318766048368015918493405811853593843487344911443496030427796228303715156n\u001b[39m,\n",
      "  \u001b[33m1337958943696657164700511549158913248996052066677825392636507599789718093268n\u001b[39m\n",
      "]\n",
      "Your Private Key: \n",
      "\u001b[33m19785431885146699345963608677700261499629304261029292666957242780310686520144n\u001b[39m\n",
      "Current Balance\n",
      "10294.0\n"
     ]
    }
   ],
   "source": [
    "zkml claim_bounty"
   ]
  },
  {
   "cell_type": "code",
   "execution_count": 1,
   "id": "335b7b18",
   "metadata": {},
   "outputs": [],
   "source": [
    "import numpy as np\n",
    "import pandas as pd\n",
    "from sklearn.metrics import mean_squared_error\n",
    "# Import Dataset from sklearn\n",
    "from sklearn.model_selection import train_test_split\n",
    "from sklearn.linear_model import LinearRegression"
   ]
  },
  {
   "cell_type": "code",
   "execution_count": 2,
   "id": "0978afd3",
   "metadata": {},
   "outputs": [],
   "source": [
    "from sklearn.datasets import load_iris # Load Iris Data\n",
    "\n",
    "iris = load_iris() # Creating pd DataFrames\n",
    "\n",
    "iris_df = pd.DataFrame(data= iris.data, columns= iris.feature_names)\n",
    "target_df = pd.DataFrame(data= iris.target, columns= ['species'])\n",
    "\n",
    "def converter(specie):\n",
    "    if specie == 0:\n",
    "        return 'setosa'\n",
    "    elif specie == 1:\n",
    "        return 'versicolor'\n",
    "    else:\n",
    "        return 'virginica'\n",
    "\n",
    "target_df['species'] = target_df['species'].apply(converter)# Concatenate the DataFrames\n",
    "iris_df = pd.concat([iris_df, target_df], axis= 1)"
   ]
  },
  {
   "cell_type": "code",
   "execution_count": 3,
   "id": "aa212780",
   "metadata": {},
   "outputs": [
    {
     "name": "stdout",
     "output_type": "stream",
     "text": [
      "Mean Squared Error: 0.1123029571353145\n"
     ]
    }
   ],
   "source": [
    "# Converting Objects to Numerical dtype\n",
    "iris_df.drop('species', axis= 1, inplace= True)\n",
    "target_df = pd.DataFrame(columns= ['species'], data= iris.target)\n",
    "iris_df = pd.concat([iris_df, target_df], axis= 1)# Variables\n",
    "X= iris_df.drop(labels= 'sepal length (cm)', axis= 1)\n",
    "y= iris_df['sepal length (cm)']\n",
    "\n",
    "# Splitting the Dataset \n",
    "X_train, X_test, y_train, y_test = train_test_split(X, y, test_size= 0.13, random_state= 101)\n",
    "\n",
    "# Instantiating LinearRegression() Model\n",
    "lr = LinearRegression()\n",
    "\n",
    "# Training/Fitting the Model\n",
    "lr.fit(X_train, y_train)\n",
    "\n",
    "# Making Predictions\n",
    "lr.predict(X_test)\n",
    "pred = lr.predict(X_test)\n",
    "\n",
    "# Evaluating Model's Performance\n",
    "print('Mean Squared Error:', mean_squared_error(y_test, pred))\n",
    "\n",
    "mse = mean_squared_error(y_test, pred)"
   ]
  },
  {
   "cell_type": "code",
   "execution_count": 13,
   "id": "13bcf93a",
   "metadata": {},
   "outputs": [],
   "source": [
    "W = lr.coef_.reshape(-1, 1)\n",
    "b = lr.intercept_.reshape(-1, 1)\n",
    "X = X_test.values[:]\n",
    "Yt_expected = y_test.values[:].reshape(-1, 1)\n",
    "mse_target = 0.11232375\n",
    "\n",
    "np.save('model/W.npy',W)\n",
    "np.save('model/b.npy',b)\n",
    "np.save('model/X.npy',X)\n",
    "np.save('model/Y.npy',Yt_expected)"
   ]
  },
  {
   "cell_type": "code",
   "execution_count": 15,
   "id": "a23661ed",
   "metadata": {},
   "outputs": [],
   "source": [
    "Y_expected = np.matmul(X_test, lr.coef_) + lr.intercept_\n",
    "\n",
    "assert (Y_expected == lr.predict(X_test)).all()"
   ]
  },
  {
   "cell_type": "code",
   "execution_count": 16,
   "id": "de099fab",
   "metadata": {},
   "outputs": [
    {
     "name": "stdout",
     "output_type": "stream",
     "text": [
      "6.7 0.0\n",
      "0.7565732740231967 -0.49234541667216947\n",
      "7.9 4.3\n",
      "0    5.558082\n",
      "dtype: float64 0    2.913389\n",
      "dtype: float64\n",
      "0.5143332457856635 -0.553112438773117\n",
      "0.3059333699255451 0.000844615740033696\n",
      "[[1.76203114]]\n"
     ]
    }
   ],
   "source": [
    "print(X.max(), X.min())\n",
    "print(W.max(), W.min())\n",
    "print(y.values[:].max(), y.values[:].min())\n",
    "print(np.matmul(X_test, W).max(), np.matmul(X_test, W).min())\n",
    "print((y_test - pred).max(), (y_test - pred).min())\n",
    "print(((y_test - pred) ** 2).max(), ((y_test - pred) ** 2).min())\n",
    "print(b)"
   ]
  },
  {
   "cell_type": "code",
   "execution_count": 17,
   "id": "5ac01b78",
   "metadata": {},
   "outputs": [],
   "source": [
    "from scripts import *\n",
    "from copy import deepcopy\n",
    "import json\n",
    "\n",
    "data = dict(\n",
    "    alpha_X = 0,\n",
    "    beta_X = 8,\n",
    "\n",
    "    alpha_W = -1,\n",
    "    beta_W = 8,\n",
    "\n",
    "    alpha_Y = 0,\n",
    "    beta_Y = 8,\n",
    "\n",
    "    alpha_Yt = 0,\n",
    "    beta_Yt = 8,\n",
    "\n",
    "    alpha_b = 0,\n",
    "    beta_b = 8,\n",
    "\n",
    "    alpha_R = -1,\n",
    "    beta_R = 1,\n",
    "\n",
    "    alpha_S = 0,\n",
    "    beta_S = 0.4,\n",
    "\n",
    "    m = 20,\n",
    "    p = 4,\n",
    "    n = 1,\n",
    "    \n",
    "    mse_target = mse_target\n",
    ")\n",
    "\n",
    "json.dump(data, open('./settings.json', 'w'), indent = 2)"
   ]
  },
  {
   "cell_type": "code",
   "execution_count": 21,
   "id": "d161ab7f",
   "metadata": {},
   "outputs": [
    {
     "name": "stdout",
     "output_type": "stream",
     "text": [
      "GEMM Input Type (m,p) (p,n) (n,n) int0 int1 int2 int3 int4 int5 int6 int7\r\n",
      "gemm assertion passed\r\n",
      "error assertion passed\r\n",
      "mse assertion passed\r\n",
      "Mean Squared Error actual:  0.11230295713531464\r\n",
      "quantized  18403\r\n",
      "Mean Squared Error simulated:  0.11232375022889581895\r\n",
      "quantized  18406\r\n"
     ]
    }
   ],
   "source": [
    "!python3 scripts/quantize.py --mode model --settings settings.json --model model"
   ]
  },
  {
   "cell_type": "code",
   "execution_count": 22,
   "id": "f44d7da3",
   "metadata": {},
   "outputs": [],
   "source": [
    "!python3 scripts/quantize.py --mode dataset --settings settings.json --model model"
   ]
  },
  {
   "cell_type": "code",
   "execution_count": 18,
   "id": "bebb4af0",
   "metadata": {},
   "outputs": [
    {
     "name": "stdout",
     "output_type": "stream",
     "text": [
      "GEMM Input Type (m,p) (p,n) (n,n) int0 int1 int2 int3 int4 int5 int6 int7\n",
      "gemm assertion passed\n",
      "error assertion passed\n",
      "mse assertion passed\n",
      "Mean Squared Error actual:  0.1123029571353145\n",
      "quantized  18403\n",
      "Mean Squared Error simulated:  0.11232375022889581895\n",
      "quantized  18406\n"
     ]
    }
   ],
   "source": [
    "quant_model('model', 'settings.json')"
   ]
  },
  {
   "cell_type": "code",
   "execution_count": 19,
   "id": "3c6d5f54",
   "metadata": {},
   "outputs": [],
   "source": [
    "quant_dataset('model', 'settings.json')"
   ]
  },
  {
   "cell_type": "code",
   "execution_count": null,
   "id": "3eba9ff4",
   "metadata": {},
   "outputs": [],
   "source": []
  }
 ],
 "metadata": {
  "kernelspec": {
   "display_name": "Python 3",
   "language": "python",
   "name": "python3"
  },
  "language_info": {
   "codemirror_mode": {
    "name": "ipython",
    "version": 3
   },
   "file_extension": ".py",
   "mimetype": "text/x-python",
   "name": "python",
   "nbconvert_exporter": "python",
   "pygments_lexer": "ipython3",
   "version": "3.8.8"
  }
 },
 "nbformat": 4,
 "nbformat_minor": 5
}
