{
 "cells": [
  {
   "cell_type": "code",
   "execution_count": 1,
   "id": "d0c084f1",
   "metadata": {},
   "outputs": [],
   "source": [
    "alias zkml source ~/.nvm/nvm.sh >/dev/null && nvm use 14.0.0 >/dev/null && yarn >/dev/null && ./zkml"
   ]
  },
  {
   "cell_type": "code",
   "execution_count": 2,
   "id": "fdf6c0cf",
   "metadata": {},
   "outputs": [
    {
     "name": "stdout",
     "output_type": "stream",
     "text": [
      "Available datasets:\r\n",
      "[\r\n",
      "  [\r\n",
      "    \u001b[32m'dataset'\u001b[39m,\r\n",
      "    \u001b[32m'14797455496207951391356508759149962584765968173479481191220882411966396840571'\u001b[39m\r\n",
      "  ]\r\n",
      "]\r\n"
     ]
    }
   ],
   "source": [
    "zkml list_datasets"
   ]
  },
  {
   "cell_type": "code",
   "execution_count": 3,
   "id": "c2ff2d44",
   "metadata": {},
   "outputs": [],
   "source": [
    "import numpy as np\n",
    "import pandas as pd\n",
    "from sklearn.metrics import mean_squared_error\n",
    "# Import Dataset from sklearn\n",
    "from sklearn.model_selection import train_test_split\n",
    "from sklearn.linear_model import LinearRegression"
   ]
  },
  {
   "cell_type": "code",
   "execution_count": 4,
   "id": "ac491908",
   "metadata": {},
   "outputs": [],
   "source": [
    "from sklearn.datasets import load_iris # Load Iris Data\n",
    "\n",
    "iris = load_iris() # Creating pd DataFrames\n",
    "\n",
    "iris_df = pd.DataFrame(data= iris.data, columns= iris.feature_names)\n",
    "target_df = pd.DataFrame(data= iris.target, columns= ['species'])\n",
    "\n",
    "def converter(specie):\n",
    "    if specie == 0:\n",
    "        return 'setosa'\n",
    "    elif specie == 1:\n",
    "        return 'versicolor'\n",
    "    else:\n",
    "        return 'virginica'\n",
    "\n",
    "target_df['species'] = target_df['species'].apply(converter)# Concatenate the DataFrames\n",
    "iris_df = pd.concat([iris_df, target_df], axis= 1)"
   ]
  },
  {
   "cell_type": "code",
   "execution_count": 32,
   "id": "a34acc63",
   "metadata": {
    "scrolled": true
   },
   "outputs": [
    {
     "name": "stdout",
     "output_type": "stream",
     "text": [
      "Mean Squared Error: 0.1123029571353145\n"
     ]
    }
   ],
   "source": [
    "# Converting Objects to Numerical dtype\n",
    "iris_df.drop('species', axis= 1, inplace= True)\n",
    "target_df = pd.DataFrame(columns= ['species'], data= iris.target)\n",
    "iris_df = pd.concat([iris_df, target_df], axis= 1)# Variables\n",
    "X= iris_df.drop(labels= 'sepal length (cm)', axis= 1)\n",
    "y= iris_df['sepal length (cm)']\n",
    "\n",
    "# Splitting the Dataset \n",
    "X_train, X_test, y_train, y_test = train_test_split(X, y, test_size= 0.13, random_state= 101)\n",
    "\n",
    "# Instantiating LinearRegression() Model\n",
    "lr = LinearRegression()\n",
    "\n",
    "# Training/Fitting the Model\n",
    "lr.fit(X_train, y_train)\n",
    "\n",
    "# Making Predictions\n",
    "lr.predict(X_test)\n",
    "pred = lr.predict(X_test)\n",
    "\n",
    "# Evaluating Model's Performance\n",
    "print('Mean Squared Error:', mean_squared_error(y_test, pred))\n",
    "\n",
    "mse = mean_squared_error(y_test, pred)"
   ]
  },
  {
   "cell_type": "code",
   "execution_count": 33,
   "id": "b04519c2",
   "metadata": {},
   "outputs": [],
   "source": [
    "shuffle = lambda x: np.random.shuffle(x)"
   ]
  },
  {
   "cell_type": "code",
   "execution_count": 45,
   "id": "b5c88ec0",
   "metadata": {},
   "outputs": [],
   "source": [
    "W = lr.coef_.reshape(-1, 1)\n",
    "b = lr.intercept_.reshape(-1, 1)\n",
    "X = X_test.values[:]\n",
    "Yt_expected = y_test.values[:].reshape(-1, 1)\n",
    "mse_target = 0.11232375\n",
    "\n",
    "np.save('model/W.npy',W)\n",
    "np.save('model/b.npy',b)\n",
    "np.save('model/X.npy',X)\n",
    "np.save('model/Y.npy',Yt_expected)"
   ]
  },
  {
   "cell_type": "code",
   "execution_count": 46,
   "id": "182acf88",
   "metadata": {},
   "outputs": [
    {
     "name": "stdout",
     "output_type": "stream",
     "text": [
      "25.617362634883932\n"
     ]
    }
   ],
   "source": [
    "shuffle(W)\n",
    "shuffle(b)\n",
    "print(mean_squared_error(y_test, np.matmul(X_test, W.reshape(-1)) + b.reshape(-1)))\n",
    "\n",
    "np.save('model_shuffled/W.npy',W)\n",
    "np.save('model_shuffled/b.npy',b)\n",
    "np.save('model_shuffled/X.npy',X)\n",
    "np.save('model_shuffled/Y.npy',Yt_expected)"
   ]
  },
  {
   "cell_type": "code",
   "execution_count": 36,
   "id": "3658c853",
   "metadata": {},
   "outputs": [],
   "source": [
    "Y_expected = np.matmul(X_test, lr.coef_) + lr.intercept_\n",
    "\n",
    "assert (Y_expected == lr.predict(X_test)).all()"
   ]
  },
  {
   "cell_type": "code",
   "execution_count": 37,
   "id": "1859a103",
   "metadata": {},
   "outputs": [
    {
     "name": "stdout",
     "output_type": "stream",
     "text": [
      "6.7 0.0\n",
      "0.7565732740231967 -0.49234541667216947\n",
      "7.9 4.3\n",
      "0    4.897875\n",
      "dtype: float64 0    0.457011\n",
      "dtype: float64\n",
      "0.5143332457856635 -0.553112438773117\n",
      "0.3059333699255451 0.000844615740033696\n",
      "[[1.76203114]]\n"
     ]
    }
   ],
   "source": [
    "print(X.max(), X.min())\n",
    "print(W.max(), W.min())\n",
    "print(y.values[:].max(), y.values[:].min())\n",
    "print(np.matmul(X_test, W).max(), np.matmul(X_test, W).min())\n",
    "print((y_test - pred).max(), (y_test - pred).min())\n",
    "print(((y_test - pred) ** 2).max(), ((y_test - pred) ** 2).min())\n",
    "print(b)"
   ]
  },
  {
   "cell_type": "code",
   "execution_count": 47,
   "id": "6f942c49",
   "metadata": {},
   "outputs": [],
   "source": [
    "from scripts import *\n",
    "from copy import deepcopy\n",
    "import json\n",
    "\n",
    "data = dict(\n",
    "    alpha_X = 0,\n",
    "    beta_X = 8,\n",
    "\n",
    "    alpha_W = -1,\n",
    "    beta_W = 8,\n",
    "\n",
    "    alpha_Y = 0,\n",
    "    beta_Y = 8,\n",
    "\n",
    "    alpha_Yt = 0,\n",
    "    beta_Yt = 8,\n",
    "\n",
    "    alpha_b = 0,\n",
    "    beta_b = 8,\n",
    "\n",
    "    alpha_R = -1,\n",
    "    beta_R = 1,\n",
    "\n",
    "    alpha_S = 0,\n",
    "    beta_S = 0.4,\n",
    "\n",
    "    m = 20,\n",
    "    p = 4,\n",
    "    n = 1,\n",
    "    \n",
    "    mse_target = mse_target\n",
    ")\n",
    "\n",
    "json.dump(data, open('./settings.json', 'w'), indent = 2)\n",
    "\n",
    "data['alpha_R'] = -10\n",
    "data['beta_R'] = 10\n",
    "data['alpha_S'] = 0\n",
    "data['beta_S'] = 30\n",
    "json.dump(data, open('./settings_shuffled.json', 'w'), indent = 2)"
   ]
  },
  {
   "cell_type": "code",
   "execution_count": 39,
   "id": "b5667fd6",
   "metadata": {},
   "outputs": [
    {
     "name": "stdout",
     "output_type": "stream",
     "text": [
      "Hashed inputs: \n",
      "\u001b[33m14797455496207951391356508759149962584765968173479481191220882411966396840571n\u001b[39m\n",
      "Your Public Key: \n",
      "[\n",
      "  \u001b[33m17122115639373369285914453263969589809605504665612778059861286753695960349172n\u001b[39m,\n",
      "  \u001b[33m1179870235095272666610791743584713446999715478061120500384581441056367949855n\u001b[39m\n",
      "]\n",
      "Your Private Key: \n",
      "\u001b[33m20043763203625609093401895323256984545114285572477190534625794228882991542183n\u001b[39m\n",
      "Current Balance\n",
      "9073.4487499725\n"
     ]
    }
   ],
   "source": [
    "zkml add_bounty --amount 11.1 --keyfile ./out --walletprivatekey ./keys/.private_key --model ./model --settings ./settings.json"
   ]
  },
  {
   "cell_type": "code",
   "execution_count": 12,
   "id": "61bae1ab",
   "metadata": {},
   "outputs": [
    {
     "name": "stdout",
     "output_type": "stream",
     "text": [
      "Available bounties on dataset: dataset\r\n",
      "[\r\n",
      "  {\r\n",
      "    \u001b[32m'publickey-1'\u001b[39m: \u001b[32m'9552838088945650470372469724370544841580865286692472448351605607468815485259'\u001b[39m,\r\n",
      "    \u001b[32m'publickey-2'\u001b[39m: \u001b[32m'11532404850529372045239600085121989034317552703281963797854509222041186132326'\u001b[39m,\r\n",
      "    \u001b[32m'MSE-Cap'\u001b[39m: \u001b[32m'18406'\u001b[39m\r\n",
      "  },\r\n",
      "  {\r\n",
      "    \u001b[32m'publickey-1'\u001b[39m: \u001b[32m'1526460987392698564225669052226207022124082916673276894690166400517367334570'\u001b[39m,\r\n",
      "    \u001b[32m'publickey-2'\u001b[39m: \u001b[32m'392879377145303310404037047194566087520063047087595908133148945348222822029'\u001b[39m,\r\n",
      "    \u001b[32m'MSE-Cap'\u001b[39m: \u001b[32m'18406'\u001b[39m\r\n",
      "  },\r\n",
      "  {\r\n",
      "    \u001b[32m'publickey-1'\u001b[39m: \u001b[32m'17397719158172011137467303627568761462602467367074070506092164847676514434263'\u001b[39m,\r\n",
      "    \u001b[32m'publickey-2'\u001b[39m: \u001b[32m'630508883307304702949871208375389012229694199420227095633095219636904421693'\u001b[39m,\r\n",
      "    \u001b[32m'MSE-Cap'\u001b[39m: \u001b[32m'18406'\u001b[39m\r\n",
      "  }\r\n",
      "]\r\n"
     ]
    }
   ],
   "source": [
    "zkml list_bounties --hash 14797455496207951391356508759149962584765968173479481191220882411966396840571"
   ]
  },
  {
   "cell_type": "code",
   "execution_count": 13,
   "id": "f4188725",
   "metadata": {},
   "outputs": [
    {
     "name": "stdout",
     "output_type": "stream",
     "text": [
      "\u001b[31mError HH303: Unrecognized task list_dataset\u001b[39m\r\n",
      "\r\n",
      "For more info go to https://hardhat.org/HH303 or run Hardhat with --show-stack-traces\r\n"
     ]
    }
   ],
   "source": [
    "zkml list_datasets"
   ]
  },
  {
   "cell_type": "code",
   "execution_count": 40,
   "id": "266d9b9f",
   "metadata": {},
   "outputs": [
    {
     "name": "stdout",
     "output_type": "stream",
     "text": [
      "Mean Squared Error actual:  0.11230295713531464\n",
      "... quantized  18403\n",
      "Mean Squared Error simulated:  0.11232375022889581895\n",
      "... quantized  18406\n",
      "Circuit Outputs:\n",
      "18406\n",
      "Proof took 19.305 s\n",
      "INFO: OK!\n",
      "Paying 0x2546BcD3c84621e976D8185a91A922aE77ECEc30\n",
      "With balance\n",
      "10512.2\n",
      "Your Public Key: \n",
      "[\n",
      "  \u001b[33m14568759156698017465252517302922236357623464611176497559003718620921484379916n\u001b[39m,\n",
      "  \u001b[33m15372093247764572299819076372256576698432640870586868247512226438105799328291n\u001b[39m\n",
      "]\n",
      "Your Private Key: \n",
      "\u001b[33m20342856632923007682009881760518562693695173823486141789953697467187459028321n\u001b[39m\n",
      "Current Balance\n",
      "10523.3\n"
     ]
    }
   ],
   "source": [
    "zkml claim_bounty --payment 0x2546BcD3c84621e976D8185a91A922aE77ECEc30 --publickey ./keys/out_public.json --model ./model --settings ./settings.json"
   ]
  },
  {
   "cell_type": "code",
   "execution_count": 15,
   "id": "68640d52",
   "metadata": {},
   "outputs": [
    {
     "name": "stdout",
     "output_type": "stream",
     "text": [
      "Available bounties on dataset: dataset\n",
      "[\n",
      "  {\n",
      "    \u001b[32m'publickey-1'\u001b[39m: \u001b[32m'9552838088945650470372469724370544841580865286692472448351605607468815485259'\u001b[39m,\n",
      "    \u001b[32m'publickey-2'\u001b[39m: \u001b[32m'11532404850529372045239600085121989034317552703281963797854509222041186132326'\u001b[39m,\n",
      "    \u001b[32m'MSE-Cap'\u001b[39m: \u001b[32m'18406'\u001b[39m\n",
      "  },\n",
      "  {\n",
      "    \u001b[32m'publickey-1'\u001b[39m: \u001b[32m'1526460987392698564225669052226207022124082916673276894690166400517367334570'\u001b[39m,\n",
      "    \u001b[32m'publickey-2'\u001b[39m: \u001b[32m'392879377145303310404037047194566087520063047087595908133148945348222822029'\u001b[39m,\n",
      "    \u001b[32m'MSE-Cap'\u001b[39m: \u001b[32m'18406'\u001b[39m\n",
      "  }\n",
      "]\n"
     ]
    }
   ],
   "source": [
    "zkml list_bounties --hash 14797455496207951391356508759149962584765968173479481191220882411966396840571"
   ]
  },
  {
   "cell_type": "code",
   "execution_count": 17,
   "id": "fb881512",
   "metadata": {},
   "outputs": [
    {
     "name": "stdout",
     "output_type": "stream",
     "text": [
      "Available datasets:\r\n",
      "[\r\n",
      "  [\r\n",
      "    \u001b[32m'dataset'\u001b[39m,\r\n",
      "    \u001b[32m'14797455496207951391356508759149962584765968173479481191220882411966396840571'\u001b[39m\r\n",
      "  ]\r\n",
      "]\r\n"
     ]
    }
   ],
   "source": [
    "zkml list_datasets"
   ]
  },
  {
   "cell_type": "code",
   "execution_count": null,
   "id": "a321a0cf",
   "metadata": {},
   "outputs": [],
   "source": []
  }
 ],
 "metadata": {
  "kernelspec": {
   "display_name": "Python 3",
   "language": "python",
   "name": "python3"
  },
  "language_info": {
   "codemirror_mode": {
    "name": "ipython",
    "version": 3
   },
   "file_extension": ".py",
   "mimetype": "text/x-python",
   "name": "python",
   "nbconvert_exporter": "python",
   "pygments_lexer": "ipython3",
   "version": "3.8.8"
  }
 },
 "nbformat": 4,
 "nbformat_minor": 5
}
